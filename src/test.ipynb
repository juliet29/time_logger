{
 "cells": [
  {
   "cell_type": "code",
   "execution_count": 13,
   "metadata": {},
   "outputs": [],
   "source": [
    "import ast"
   ]
  },
  {
   "cell_type": "code",
   "execution_count": 99,
   "metadata": {},
   "outputs": [],
   "source": [
    "code = \"12,34,45\""
   ]
  },
  {
   "cell_type": "code",
   "execution_count": 103,
   "metadata": {},
   "outputs": [],
   "source": [
    "\n",
    "class InputParser(ast.NodeVisitor):\n",
    "    def __init__(self):\n",
    "        self.values = []\n",
    "\n",
    "    def visit_Constant(self, node: ast.AST):\n",
    "        try:\n",
    "            self.values.append(node.value) # type: ignore \n",
    "        except:\n",
    "            pass\n",
    "        self.generic_visit(node)\n",
    "\n",
    "def get_values(code):\n",
    "    # code must be valid python, like \"12,34,45\"\n",
    "    node = ast.parse(code)\n",
    "    parser = InputParser()\n",
    "    parser.visit_Constant(node)\n",
    "    return parser.values"
   ]
  },
  {
   "cell_type": "code",
   "execution_count": 104,
   "metadata": {},
   "outputs": [
    {
     "data": {
      "text/plain": [
       "[12, 34, 45]"
      ]
     },
     "execution_count": 104,
     "metadata": {},
     "output_type": "execute_result"
    }
   ],
   "source": [
    "get_values(code)"
   ]
  },
  {
   "cell_type": "code",
   "execution_count": 100,
   "metadata": {},
   "outputs": [
    {
     "name": "stdout",
     "output_type": "stream",
     "text": [
      "Module(\n",
      "    body=[\n",
      "        Expr(\n",
      "            value=Tuple(\n",
      "                elts=[\n",
      "                    Constant(value=12),\n",
      "                    Constant(value=34),\n",
      "                    Constant(value=45)],\n",
      "                ctx=Load()))])\n"
     ]
    }
   ],
   "source": [
    "print(ast.dump(ast.parse(code), indent=4))"
   ]
  },
  {
   "cell_type": "code",
   "execution_count": 101,
   "metadata": {},
   "outputs": [],
   "source": [
    "class Visitor(ast.NodeVisitor):\n",
    "    def __init__(self):\n",
    "        self.values = []\n",
    "\n",
    "    def visit_Constant(self, node: ast.AST):\n",
    "        print(node)\n",
    "        print(node._fields)\n",
    "        try:\n",
    "            self.values.append(node.value)\n",
    "        except:\n",
    "            pass\n",
    "        self.generic_visit(node)"
   ]
  },
  {
   "cell_type": "code",
   "execution_count": 102,
   "metadata": {},
   "outputs": [
    {
     "name": "stdout",
     "output_type": "stream",
     "text": [
      "<ast.Module object at 0x118cc0910>\n",
      "('body', 'type_ignores')\n",
      "<ast.Constant object at 0x118cc1550>\n",
      "('value', 'kind')\n",
      "<ast.Constant object at 0x118cc1490>\n",
      "('value', 'kind')\n",
      "<ast.Constant object at 0x118cc14d0>\n",
      "('value', 'kind')\n"
     ]
    },
    {
     "data": {
      "text/plain": [
       "[12, 34, 45]"
      ]
     },
     "execution_count": 102,
     "metadata": {},
     "output_type": "execute_result"
    }
   ],
   "source": [
    "node = ast.parse(code)\n",
    "v = Visitor()\n",
    "v.visit_Constant(node)\n",
    "v.values"
   ]
  },
  {
   "cell_type": "code",
   "execution_count": 32,
   "metadata": {},
   "outputs": [
    {
     "data": {
      "text/plain": [
       "[<ast.Constant at 0x118bdc910>,\n",
       " <ast.Constant at 0x118bde990>,\n",
       " <ast.Constant at 0x118bdfcd0>]"
      ]
     },
     "execution_count": 32,
     "metadata": {},
     "output_type": "execute_result"
    }
   ],
   "source": [
    "ast.parse(\"12, 34, 45\").body[0].__getattribute__(\"value\").__getattribute__(\"elts\")"
   ]
  },
  {
   "cell_type": "code",
   "execution_count": 6,
   "metadata": {},
   "outputs": [
    {
     "data": {
      "text/plain": [
       "'12 13 '"
      ]
     },
     "execution_count": 6,
     "metadata": {},
     "output_type": "execute_result"
    }
   ],
   "source": [
    "# entry = [12, 13, 87]\n",
    "entry = [\"1\", \"2\", \" \", \"1\", \"3\", \" \"]\n",
    "res = \"\".join(entry)\n",
    "res"
   ]
  },
  {
   "cell_type": "code",
   "execution_count": 7,
   "metadata": {},
   "outputs": [
    {
     "data": {
      "text/plain": [
       "['12', '13', '']"
      ]
     },
     "execution_count": 7,
     "metadata": {},
     "output_type": "execute_result"
    }
   ],
   "source": [
    "res.split(\" \")"
   ]
  },
  {
   "cell_type": "code",
   "execution_count": 11,
   "metadata": {},
   "outputs": [],
   "source": [
    "fin = []\n",
    "for i in res.split(\" \"):\n",
    "    try:\n",
    "        fin.append(int(i))\n",
    "    except ValueError:\n",
    "        pass\n",
    "# [int(i) for i in res.split(\" \")]"
   ]
  },
  {
   "cell_type": "code",
   "execution_count": 12,
   "metadata": {},
   "outputs": [
    {
     "data": {
      "text/plain": [
       "[12, 13]"
      ]
     },
     "execution_count": 12,
     "metadata": {},
     "output_type": "execute_result"
    }
   ],
   "source": [
    "fin"
   ]
  }
 ],
 "metadata": {
  "kernelspec": {
   "display_name": ".venv",
   "language": "python",
   "name": "python3"
  },
  "language_info": {
   "codemirror_mode": {
    "name": "ipython",
    "version": 3
   },
   "file_extension": ".py",
   "mimetype": "text/x-python",
   "name": "python",
   "nbconvert_exporter": "python",
   "pygments_lexer": "ipython3",
   "version": "3.13.0"
  }
 },
 "nbformat": 4,
 "nbformat_minor": 2
}

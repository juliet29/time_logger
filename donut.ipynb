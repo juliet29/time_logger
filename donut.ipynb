{
 "cells": [
  {
   "cell_type": "code",
   "execution_count": 1,
   "metadata": {},
   "outputs": [],
   "source": [
    "%load_ext autoreload\n",
    "%autoreload 2"
   ]
  },
  {
   "cell_type": "code",
   "execution_count": 2,
   "metadata": {},
   "outputs": [],
   "source": [
    "from pathlib import Path\n",
    "import sys\n",
    "sys.path.append(str(Path.cwd() / \"src\"))"
   ]
  },
  {
   "cell_type": "code",
   "execution_count": 61,
   "metadata": {},
   "outputs": [],
   "source": [
    "import datetime\n",
    "from itertools import product\n",
    "\n",
    "import matplotlib.pyplot as plt\n",
    "import numpy as np\n",
    "import polars as pl\n",
    "from copy import deepcopy\n",
    "import seaborn.objects as so\n",
    "import plotly.express as px\n",
    "import pandas as pd\n",
    "\n",
    "import plotly.graph_objects as go\n",
    "from plotly.subplots import make_subplots\n",
    "\n",
    "\n",
    "from variables import get_db_path\n",
    "from db_commands.connect import connect_to_real_db \n",
    "from db_commands.read import read_all_entries, aggregate_focus_project_date\n"
   ]
  },
  {
   "cell_type": "code",
   "execution_count": 6,
   "metadata": {},
   "outputs": [
    {
     "data": {
      "text/html": [
       "<div><style>\n",
       ".dataframe > thead > tr,\n",
       ".dataframe > tbody > tr {\n",
       "  text-align: right;\n",
       "  white-space: pre-wrap;\n",
       "}\n",
       "</style>\n",
       "<small>shape: (19, 8)</small><table border=\"1\" class=\"dataframe\"><thead><tr><th>entry_id</th><th>date</th><th>focus_area</th><th>project</th><th>description</th><th>minutes</th><th>activity_type</th><th>elapsed_time</th></tr><tr><td>i64</td><td>str</td><td>str</td><td>str</td><td>str</td><td>i64</td><td>str</td><td>duration[ms]</td></tr></thead><tbody><tr><td>1</td><td>&quot;2024-12-11&quot;</td><td>&quot;personal_code&quot;</td><td>&quot;time_logger&quot;</td><td>&quot;creating db and commands&quot;</td><td>33</td><td>&quot;coding&quot;</td><td>33m</td></tr><tr><td>1</td><td>&quot;2024-12-11&quot;</td><td>&quot;personal_code&quot;</td><td>&quot;time_logger&quot;</td><td>&quot;creating db and commands&quot;</td><td>76</td><td>&quot;coding&quot;</td><td>1h 16m</td></tr><tr><td>2</td><td>&quot;2024-12-05&quot;</td><td>&quot;personal_code&quot;</td><td>&quot;time_logger&quot;</td><td>&quot;setup&quot;</td><td>55</td><td>&quot;coding&quot;</td><td>55m</td></tr><tr><td>2</td><td>&quot;2024-12-05&quot;</td><td>&quot;personal_code&quot;</td><td>&quot;time_logger&quot;</td><td>&quot;setup&quot;</td><td>84</td><td>&quot;coding&quot;</td><td>1h 24m</td></tr><tr><td>3</td><td>&quot;2024-12-06&quot;</td><td>&quot;career&quot;</td><td>&quot;building africa&#x27;s cities summi…</td><td>&quot;mel lane grant app&quot;</td><td>32</td><td>&quot;writing&quot;</td><td>32m</td></tr><tr><td>&hellip;</td><td>&hellip;</td><td>&hellip;</td><td>&hellip;</td><td>&hellip;</td><td>&hellip;</td><td>&hellip;</td><td>&hellip;</td></tr><tr><td>10</td><td>&quot;2024-12-14&quot;</td><td>&quot;admin&quot;</td><td>&quot;cee243&quot;</td><td>&quot;grading project 3&quot;</td><td>48</td><td>&quot;grading&quot;</td><td>48m</td></tr><tr><td>10</td><td>&quot;2024-12-14&quot;</td><td>&quot;admin&quot;</td><td>&quot;cee243&quot;</td><td>&quot;grading project 3&quot;</td><td>71</td><td>&quot;grading&quot;</td><td>1h 11m</td></tr><tr><td>10</td><td>&quot;2024-12-14&quot;</td><td>&quot;admin&quot;</td><td>&quot;cee243&quot;</td><td>&quot;grading project 3&quot;</td><td>51</td><td>&quot;grading&quot;</td><td>51m</td></tr><tr><td>10</td><td>&quot;2024-12-14&quot;</td><td>&quot;admin&quot;</td><td>&quot;cee243&quot;</td><td>&quot;grading project 3&quot;</td><td>27</td><td>&quot;grading&quot;</td><td>27m</td></tr><tr><td>11</td><td>&quot;2024-12-20&quot;</td><td>&quot;career&quot;</td><td>&quot;summer24 job application&quot;</td><td>&quot;collating documents for SCAPE …</td><td>157</td><td>&quot;revising&quot;</td><td>2h 37m</td></tr></tbody></table></div>"
      ],
      "text/plain": [
       "shape: (19, 8)\n",
       "┌──────────┬────────────┬────────────┬────────────┬────────────┬─────────┬────────────┬────────────┐\n",
       "│ entry_id ┆ date       ┆ focus_area ┆ project    ┆ descriptio ┆ minutes ┆ activity_t ┆ elapsed_ti │\n",
       "│ ---      ┆ ---        ┆ ---        ┆ ---        ┆ n          ┆ ---     ┆ ype        ┆ me         │\n",
       "│ i64      ┆ str        ┆ str        ┆ str        ┆ ---        ┆ i64     ┆ ---        ┆ ---        │\n",
       "│          ┆            ┆            ┆            ┆ str        ┆         ┆ str        ┆ duration[m │\n",
       "│          ┆            ┆            ┆            ┆            ┆         ┆            ┆ s]         │\n",
       "╞══════════╪════════════╪════════════╪════════════╪════════════╪═════════╪════════════╪════════════╡\n",
       "│ 1        ┆ 2024-12-11 ┆ personal_c ┆ time_logge ┆ creating   ┆ 33      ┆ coding     ┆ 33m        │\n",
       "│          ┆            ┆ ode        ┆ r          ┆ db and     ┆         ┆            ┆            │\n",
       "│          ┆            ┆            ┆            ┆ commands   ┆         ┆            ┆            │\n",
       "│ 1        ┆ 2024-12-11 ┆ personal_c ┆ time_logge ┆ creating   ┆ 76      ┆ coding     ┆ 1h 16m     │\n",
       "│          ┆            ┆ ode        ┆ r          ┆ db and     ┆         ┆            ┆            │\n",
       "│          ┆            ┆            ┆            ┆ commands   ┆         ┆            ┆            │\n",
       "│ 2        ┆ 2024-12-05 ┆ personal_c ┆ time_logge ┆ setup      ┆ 55      ┆ coding     ┆ 55m        │\n",
       "│          ┆            ┆ ode        ┆ r          ┆            ┆         ┆            ┆            │\n",
       "│ 2        ┆ 2024-12-05 ┆ personal_c ┆ time_logge ┆ setup      ┆ 84      ┆ coding     ┆ 1h 24m     │\n",
       "│          ┆            ┆ ode        ┆ r          ┆            ┆         ┆            ┆            │\n",
       "│ 3        ┆ 2024-12-06 ┆ career     ┆ building   ┆ mel lane   ┆ 32      ┆ writing    ┆ 32m        │\n",
       "│          ┆            ┆            ┆ africa's   ┆ grant app  ┆         ┆            ┆            │\n",
       "│          ┆            ┆            ┆ cities     ┆            ┆         ┆            ┆            │\n",
       "│          ┆            ┆            ┆ summi…     ┆            ┆         ┆            ┆            │\n",
       "│ …        ┆ …          ┆ …          ┆ …          ┆ …          ┆ …       ┆ …          ┆ …          │\n",
       "│ 10       ┆ 2024-12-14 ┆ admin      ┆ cee243     ┆ grading    ┆ 48      ┆ grading    ┆ 48m        │\n",
       "│          ┆            ┆            ┆            ┆ project 3  ┆         ┆            ┆            │\n",
       "│ 10       ┆ 2024-12-14 ┆ admin      ┆ cee243     ┆ grading    ┆ 71      ┆ grading    ┆ 1h 11m     │\n",
       "│          ┆            ┆            ┆            ┆ project 3  ┆         ┆            ┆            │\n",
       "│ 10       ┆ 2024-12-14 ┆ admin      ┆ cee243     ┆ grading    ┆ 51      ┆ grading    ┆ 51m        │\n",
       "│          ┆            ┆            ┆            ┆ project 3  ┆         ┆            ┆            │\n",
       "│ 10       ┆ 2024-12-14 ┆ admin      ┆ cee243     ┆ grading    ┆ 27      ┆ grading    ┆ 27m        │\n",
       "│          ┆            ┆            ┆            ┆ project 3  ┆         ┆            ┆            │\n",
       "│ 11       ┆ 2024-12-20 ┆ career     ┆ summer24   ┆ collating  ┆ 157     ┆ revising   ┆ 2h 37m     │\n",
       "│          ┆            ┆            ┆ job applic ┆ documents  ┆         ┆            ┆            │\n",
       "│          ┆            ┆            ┆ ation      ┆ for SCAPE  ┆         ┆            ┆            │\n",
       "│          ┆            ┆            ┆            ┆ …          ┆         ┆            ┆            │\n",
       "└──────────┴────────────┴────────────┴────────────┴────────────┴─────────┴────────────┴────────────┘"
      ]
     },
     "execution_count": 6,
     "metadata": {},
     "output_type": "execute_result"
    }
   ],
   "source": [
    "connection = connect_to_real_db(get_db_path())\n",
    "df = read_all_entries(connection)\n",
    "df\n",
    "# df_agg = aggregate_focus_project_date(df)\n",
    "# df_agg = df_agg.group_by(\"focus_area\", \"date\").agg([pl.col(\"elapsed_time\").sum(), pl.col(\"project\")])\n",
    "# df_agg"
   ]
  },
  {
   "cell_type": "code",
   "execution_count": 14,
   "metadata": {},
   "outputs": [
    {
     "data": {
      "text/html": [
       "<div><style>\n",
       ".dataframe > thead > tr,\n",
       ".dataframe > tbody > tr {\n",
       "  text-align: right;\n",
       "  white-space: pre-wrap;\n",
       "}\n",
       "</style>\n",
       "<small>shape: (7, 3)</small><table border=\"1\" class=\"dataframe\"><thead><tr><th>focus_area</th><th>project</th><th>elapsed_time</th></tr><tr><td>str</td><td>str</td><td>duration[ms]</td></tr></thead><tbody><tr><td>&quot;admin&quot;</td><td>&quot;cee243&quot;</td><td>3h 17m</td></tr><tr><td>&quot;career&quot;</td><td>&quot;summer24 job application&quot;</td><td>6h 16m</td></tr><tr><td>&quot;career&quot;</td><td>&quot;building africa&#x27;s cities summi…</td><td>1h 32m</td></tr><tr><td>&quot;foundations&quot;</td><td>&quot;probabilistic graphical models&quot;</td><td>1h 30m</td></tr><tr><td>&quot;personal_code&quot;</td><td>&quot;time_logger&quot;</td><td>4h 8m</td></tr><tr><td>&quot;personal_code&quot;</td><td>&quot;slowcial&quot;</td><td>3h 42m</td></tr><tr><td>&quot;phd&quot;</td><td>&quot;SERC&quot;</td><td>32m</td></tr></tbody></table></div>"
      ],
      "text/plain": [
       "shape: (7, 3)\n",
       "┌───────────────┬─────────────────────────────────┬──────────────┐\n",
       "│ focus_area    ┆ project                         ┆ elapsed_time │\n",
       "│ ---           ┆ ---                             ┆ ---          │\n",
       "│ str           ┆ str                             ┆ duration[ms] │\n",
       "╞═══════════════╪═════════════════════════════════╪══════════════╡\n",
       "│ admin         ┆ cee243                          ┆ 3h 17m       │\n",
       "│ career        ┆ summer24 job application        ┆ 6h 16m       │\n",
       "│ career        ┆ building africa's cities summi… ┆ 1h 32m       │\n",
       "│ foundations   ┆ probabilistic graphical models  ┆ 1h 30m       │\n",
       "│ personal_code ┆ time_logger                     ┆ 4h 8m        │\n",
       "│ personal_code ┆ slowcial                        ┆ 3h 42m       │\n",
       "│ phd           ┆ SERC                            ┆ 32m          │\n",
       "└───────────────┴─────────────────────────────────┴──────────────┘"
      ]
     },
     "execution_count": 14,
     "metadata": {},
     "output_type": "execute_result"
    }
   ],
   "source": [
    "grouped_df = df.group_by(\"focus_area\", \"project\").agg(pl.col(\"elapsed_time\").sum()).sort(by=\"focus_area\")\n",
    "grouped_df"
   ]
  },
  {
   "cell_type": "code",
   "execution_count": 36,
   "metadata": {},
   "outputs": [
    {
     "data": {
      "text/plain": [
       "datetime.timedelta"
      ]
     },
     "execution_count": 36,
     "metadata": {},
     "output_type": "execute_result"
    }
   ],
   "source": [
    "type(grouped_df[0][\"elapsed_time\"][0])"
   ]
  },
  {
   "cell_type": "code",
   "execution_count": 46,
   "metadata": {},
   "outputs": [],
   "source": []
  },
  {
   "cell_type": "code",
   "execution_count": 56,
   "metadata": {},
   "outputs": [
    {
     "data": {
      "text/plain": [
       "[['hi', 'hi', 'hi'], ['hi', 'hi', 'hi']]"
      ]
     },
     "execution_count": 56,
     "metadata": {},
     "output_type": "execute_result"
    }
   ],
   "source": [
    "np.full((2,3), \"hi\").tolist()"
   ]
  },
  {
   "cell_type": "code",
   "execution_count": 64,
   "metadata": {},
   "outputs": [],
   "source": [
    "def calc_nrows(nplots, ncols=2):\n",
    "    return nplots // ncols + (nplots % ncols > 0)\n",
    "\n",
    "def make_indices(nrows, ncols):\n",
    "    range_rows = list(range(1, nrows + 1))\n",
    "    range_cols = list(range(1, ncols + 1))\n",
    "    return list(product(range_rows, range_cols))\n",
    "\n",
    "def prep_subplot(nplots, ncols=2):\n",
    "    d = {}\n",
    "    d[\"cols\"] = ncols\n",
    "    d[\"rows\"] = calc_nrows(nplots, ncols)\n",
    "    d[\"specs\"] = np.full((d[\"rows\"], d[\"cols\"]), {\"type\": \"domain\"}).tolist()\n",
    "    indices = make_indices(d[\"rows\"], d[\"cols\"])\n",
    "    return d, indices"
   ]
  },
  {
   "cell_type": "code",
   "execution_count": null,
   "metadata": {},
   "outputs": [],
   "source": [
    "\n"
   ]
  },
  {
   "cell_type": "code",
   "execution_count": 63,
   "metadata": {},
   "outputs": [
    {
     "data": {
      "text/plain": [
       "[(1, 1), (1, 2), (1, 3), (2, 1), (2, 2), (2, 3)]"
      ]
     },
     "execution_count": 63,
     "metadata": {},
     "output_type": "execute_result"
    }
   ],
   "source": [
    "make_indices(2,3)"
   ]
  },
  {
   "cell_type": "code",
   "execution_count": 65,
   "metadata": {},
   "outputs": [
    {
     "data": {
      "application/vnd.plotly.v1+json": {
       "config": {
        "plotlyServerURL": "https://plotly.com"
       },
       "data": [
        {
         "domain": {
          "x": [
           0,
           0.2888888888888889
          ],
          "y": [
           0.625,
           1
          ]
         },
         "labels": [
          "cee243"
         ],
         "name": "admin",
         "showlegend": false,
         "type": "pie",
         "values": [
          11820000
         ]
        },
        {
         "domain": {
          "x": [
           0.35555555555555557,
           0.6444444444444445
          ],
          "y": [
           0.625,
           1
          ]
         },
         "labels": [
          "probabilistic graphical models"
         ],
         "name": "foundations",
         "showlegend": false,
         "type": "pie",
         "values": [
          5400000
         ]
        },
        {
         "domain": {
          "x": [
           0.7111111111111111,
           1
          ],
          "y": [
           0.625,
           1
          ]
         },
         "labels": [
          "summer24 job application",
          "building africa's cities summit"
         ],
         "name": "career",
         "showlegend": false,
         "type": "pie",
         "values": [
          22560000,
          5520000
         ]
        },
        {
         "domain": {
          "x": [
           0,
           0.2888888888888889
          ],
          "y": [
           0,
           0.375
          ]
         },
         "labels": [
          "time_logger",
          "slowcial"
         ],
         "name": "personal_code",
         "showlegend": false,
         "type": "pie",
         "values": [
          14880000,
          13320000
         ]
        },
        {
         "domain": {
          "x": [
           0.35555555555555557,
           0.6444444444444445
          ],
          "y": [
           0,
           0.375
          ]
         },
         "labels": [
          "SERC"
         ],
         "name": "phd",
         "showlegend": false,
         "type": "pie",
         "values": [
          1920000
         ]
        }
       ],
       "layout": {
        "annotations": [
         {
          "font": {
           "size": 16
          },
          "showarrow": false,
          "text": "admin",
          "x": 0.14444444444444446,
          "xanchor": "center",
          "xref": "paper",
          "y": 1,
          "yanchor": "bottom",
          "yref": "paper"
         },
         {
          "font": {
           "size": 16
          },
          "showarrow": false,
          "text": "phd",
          "x": 0.5,
          "xanchor": "center",
          "xref": "paper",
          "y": 1,
          "yanchor": "bottom",
          "yref": "paper"
         },
         {
          "font": {
           "size": 16
          },
          "showarrow": false,
          "text": "personal_code",
          "x": 0.8555555555555556,
          "xanchor": "center",
          "xref": "paper",
          "y": 1,
          "yanchor": "bottom",
          "yref": "paper"
         },
         {
          "font": {
           "size": 16
          },
          "showarrow": false,
          "text": "career",
          "x": 0.14444444444444446,
          "xanchor": "center",
          "xref": "paper",
          "y": 0.375,
          "yanchor": "bottom",
          "yref": "paper"
         },
         {
          "font": {
           "size": 16
          },
          "showarrow": false,
          "text": "foundations",
          "x": 0.5,
          "xanchor": "center",
          "xref": "paper",
          "y": 0.375,
          "yanchor": "bottom",
          "yref": "paper"
         }
        ],
        "template": {
         "data": {
          "bar": [
           {
            "error_x": {
             "color": "#2a3f5f"
            },
            "error_y": {
             "color": "#2a3f5f"
            },
            "marker": {
             "line": {
              "color": "#E5ECF6",
              "width": 0.5
             },
             "pattern": {
              "fillmode": "overlay",
              "size": 10,
              "solidity": 0.2
             }
            },
            "type": "bar"
           }
          ],
          "barpolar": [
           {
            "marker": {
             "line": {
              "color": "#E5ECF6",
              "width": 0.5
             },
             "pattern": {
              "fillmode": "overlay",
              "size": 10,
              "solidity": 0.2
             }
            },
            "type": "barpolar"
           }
          ],
          "carpet": [
           {
            "aaxis": {
             "endlinecolor": "#2a3f5f",
             "gridcolor": "white",
             "linecolor": "white",
             "minorgridcolor": "white",
             "startlinecolor": "#2a3f5f"
            },
            "baxis": {
             "endlinecolor": "#2a3f5f",
             "gridcolor": "white",
             "linecolor": "white",
             "minorgridcolor": "white",
             "startlinecolor": "#2a3f5f"
            },
            "type": "carpet"
           }
          ],
          "choropleth": [
           {
            "colorbar": {
             "outlinewidth": 0,
             "ticks": ""
            },
            "type": "choropleth"
           }
          ],
          "contour": [
           {
            "colorbar": {
             "outlinewidth": 0,
             "ticks": ""
            },
            "colorscale": [
             [
              0,
              "#0d0887"
             ],
             [
              0.1111111111111111,
              "#46039f"
             ],
             [
              0.2222222222222222,
              "#7201a8"
             ],
             [
              0.3333333333333333,
              "#9c179e"
             ],
             [
              0.4444444444444444,
              "#bd3786"
             ],
             [
              0.5555555555555556,
              "#d8576b"
             ],
             [
              0.6666666666666666,
              "#ed7953"
             ],
             [
              0.7777777777777778,
              "#fb9f3a"
             ],
             [
              0.8888888888888888,
              "#fdca26"
             ],
             [
              1,
              "#f0f921"
             ]
            ],
            "type": "contour"
           }
          ],
          "contourcarpet": [
           {
            "colorbar": {
             "outlinewidth": 0,
             "ticks": ""
            },
            "type": "contourcarpet"
           }
          ],
          "heatmap": [
           {
            "colorbar": {
             "outlinewidth": 0,
             "ticks": ""
            },
            "colorscale": [
             [
              0,
              "#0d0887"
             ],
             [
              0.1111111111111111,
              "#46039f"
             ],
             [
              0.2222222222222222,
              "#7201a8"
             ],
             [
              0.3333333333333333,
              "#9c179e"
             ],
             [
              0.4444444444444444,
              "#bd3786"
             ],
             [
              0.5555555555555556,
              "#d8576b"
             ],
             [
              0.6666666666666666,
              "#ed7953"
             ],
             [
              0.7777777777777778,
              "#fb9f3a"
             ],
             [
              0.8888888888888888,
              "#fdca26"
             ],
             [
              1,
              "#f0f921"
             ]
            ],
            "type": "heatmap"
           }
          ],
          "heatmapgl": [
           {
            "colorbar": {
             "outlinewidth": 0,
             "ticks": ""
            },
            "colorscale": [
             [
              0,
              "#0d0887"
             ],
             [
              0.1111111111111111,
              "#46039f"
             ],
             [
              0.2222222222222222,
              "#7201a8"
             ],
             [
              0.3333333333333333,
              "#9c179e"
             ],
             [
              0.4444444444444444,
              "#bd3786"
             ],
             [
              0.5555555555555556,
              "#d8576b"
             ],
             [
              0.6666666666666666,
              "#ed7953"
             ],
             [
              0.7777777777777778,
              "#fb9f3a"
             ],
             [
              0.8888888888888888,
              "#fdca26"
             ],
             [
              1,
              "#f0f921"
             ]
            ],
            "type": "heatmapgl"
           }
          ],
          "histogram": [
           {
            "marker": {
             "pattern": {
              "fillmode": "overlay",
              "size": 10,
              "solidity": 0.2
             }
            },
            "type": "histogram"
           }
          ],
          "histogram2d": [
           {
            "colorbar": {
             "outlinewidth": 0,
             "ticks": ""
            },
            "colorscale": [
             [
              0,
              "#0d0887"
             ],
             [
              0.1111111111111111,
              "#46039f"
             ],
             [
              0.2222222222222222,
              "#7201a8"
             ],
             [
              0.3333333333333333,
              "#9c179e"
             ],
             [
              0.4444444444444444,
              "#bd3786"
             ],
             [
              0.5555555555555556,
              "#d8576b"
             ],
             [
              0.6666666666666666,
              "#ed7953"
             ],
             [
              0.7777777777777778,
              "#fb9f3a"
             ],
             [
              0.8888888888888888,
              "#fdca26"
             ],
             [
              1,
              "#f0f921"
             ]
            ],
            "type": "histogram2d"
           }
          ],
          "histogram2dcontour": [
           {
            "colorbar": {
             "outlinewidth": 0,
             "ticks": ""
            },
            "colorscale": [
             [
              0,
              "#0d0887"
             ],
             [
              0.1111111111111111,
              "#46039f"
             ],
             [
              0.2222222222222222,
              "#7201a8"
             ],
             [
              0.3333333333333333,
              "#9c179e"
             ],
             [
              0.4444444444444444,
              "#bd3786"
             ],
             [
              0.5555555555555556,
              "#d8576b"
             ],
             [
              0.6666666666666666,
              "#ed7953"
             ],
             [
              0.7777777777777778,
              "#fb9f3a"
             ],
             [
              0.8888888888888888,
              "#fdca26"
             ],
             [
              1,
              "#f0f921"
             ]
            ],
            "type": "histogram2dcontour"
           }
          ],
          "mesh3d": [
           {
            "colorbar": {
             "outlinewidth": 0,
             "ticks": ""
            },
            "type": "mesh3d"
           }
          ],
          "parcoords": [
           {
            "line": {
             "colorbar": {
              "outlinewidth": 0,
              "ticks": ""
             }
            },
            "type": "parcoords"
           }
          ],
          "pie": [
           {
            "automargin": true,
            "type": "pie"
           }
          ],
          "scatter": [
           {
            "fillpattern": {
             "fillmode": "overlay",
             "size": 10,
             "solidity": 0.2
            },
            "type": "scatter"
           }
          ],
          "scatter3d": [
           {
            "line": {
             "colorbar": {
              "outlinewidth": 0,
              "ticks": ""
             }
            },
            "marker": {
             "colorbar": {
              "outlinewidth": 0,
              "ticks": ""
             }
            },
            "type": "scatter3d"
           }
          ],
          "scattercarpet": [
           {
            "marker": {
             "colorbar": {
              "outlinewidth": 0,
              "ticks": ""
             }
            },
            "type": "scattercarpet"
           }
          ],
          "scattergeo": [
           {
            "marker": {
             "colorbar": {
              "outlinewidth": 0,
              "ticks": ""
             }
            },
            "type": "scattergeo"
           }
          ],
          "scattergl": [
           {
            "marker": {
             "colorbar": {
              "outlinewidth": 0,
              "ticks": ""
             }
            },
            "type": "scattergl"
           }
          ],
          "scattermapbox": [
           {
            "marker": {
             "colorbar": {
              "outlinewidth": 0,
              "ticks": ""
             }
            },
            "type": "scattermapbox"
           }
          ],
          "scatterpolar": [
           {
            "marker": {
             "colorbar": {
              "outlinewidth": 0,
              "ticks": ""
             }
            },
            "type": "scatterpolar"
           }
          ],
          "scatterpolargl": [
           {
            "marker": {
             "colorbar": {
              "outlinewidth": 0,
              "ticks": ""
             }
            },
            "type": "scatterpolargl"
           }
          ],
          "scatterternary": [
           {
            "marker": {
             "colorbar": {
              "outlinewidth": 0,
              "ticks": ""
             }
            },
            "type": "scatterternary"
           }
          ],
          "surface": [
           {
            "colorbar": {
             "outlinewidth": 0,
             "ticks": ""
            },
            "colorscale": [
             [
              0,
              "#0d0887"
             ],
             [
              0.1111111111111111,
              "#46039f"
             ],
             [
              0.2222222222222222,
              "#7201a8"
             ],
             [
              0.3333333333333333,
              "#9c179e"
             ],
             [
              0.4444444444444444,
              "#bd3786"
             ],
             [
              0.5555555555555556,
              "#d8576b"
             ],
             [
              0.6666666666666666,
              "#ed7953"
             ],
             [
              0.7777777777777778,
              "#fb9f3a"
             ],
             [
              0.8888888888888888,
              "#fdca26"
             ],
             [
              1,
              "#f0f921"
             ]
            ],
            "type": "surface"
           }
          ],
          "table": [
           {
            "cells": {
             "fill": {
              "color": "#EBF0F8"
             },
             "line": {
              "color": "white"
             }
            },
            "header": {
             "fill": {
              "color": "#C8D4E3"
             },
             "line": {
              "color": "white"
             }
            },
            "type": "table"
           }
          ]
         },
         "layout": {
          "annotationdefaults": {
           "arrowcolor": "#2a3f5f",
           "arrowhead": 0,
           "arrowwidth": 1
          },
          "autotypenumbers": "strict",
          "coloraxis": {
           "colorbar": {
            "outlinewidth": 0,
            "ticks": ""
           }
          },
          "colorscale": {
           "diverging": [
            [
             0,
             "#8e0152"
            ],
            [
             0.1,
             "#c51b7d"
            ],
            [
             0.2,
             "#de77ae"
            ],
            [
             0.3,
             "#f1b6da"
            ],
            [
             0.4,
             "#fde0ef"
            ],
            [
             0.5,
             "#f7f7f7"
            ],
            [
             0.6,
             "#e6f5d0"
            ],
            [
             0.7,
             "#b8e186"
            ],
            [
             0.8,
             "#7fbc41"
            ],
            [
             0.9,
             "#4d9221"
            ],
            [
             1,
             "#276419"
            ]
           ],
           "sequential": [
            [
             0,
             "#0d0887"
            ],
            [
             0.1111111111111111,
             "#46039f"
            ],
            [
             0.2222222222222222,
             "#7201a8"
            ],
            [
             0.3333333333333333,
             "#9c179e"
            ],
            [
             0.4444444444444444,
             "#bd3786"
            ],
            [
             0.5555555555555556,
             "#d8576b"
            ],
            [
             0.6666666666666666,
             "#ed7953"
            ],
            [
             0.7777777777777778,
             "#fb9f3a"
            ],
            [
             0.8888888888888888,
             "#fdca26"
            ],
            [
             1,
             "#f0f921"
            ]
           ],
           "sequentialminus": [
            [
             0,
             "#0d0887"
            ],
            [
             0.1111111111111111,
             "#46039f"
            ],
            [
             0.2222222222222222,
             "#7201a8"
            ],
            [
             0.3333333333333333,
             "#9c179e"
            ],
            [
             0.4444444444444444,
             "#bd3786"
            ],
            [
             0.5555555555555556,
             "#d8576b"
            ],
            [
             0.6666666666666666,
             "#ed7953"
            ],
            [
             0.7777777777777778,
             "#fb9f3a"
            ],
            [
             0.8888888888888888,
             "#fdca26"
            ],
            [
             1,
             "#f0f921"
            ]
           ]
          },
          "colorway": [
           "#636efa",
           "#EF553B",
           "#00cc96",
           "#ab63fa",
           "#FFA15A",
           "#19d3f3",
           "#FF6692",
           "#B6E880",
           "#FF97FF",
           "#FECB52"
          ],
          "font": {
           "color": "#2a3f5f"
          },
          "geo": {
           "bgcolor": "white",
           "lakecolor": "white",
           "landcolor": "#E5ECF6",
           "showlakes": true,
           "showland": true,
           "subunitcolor": "white"
          },
          "hoverlabel": {
           "align": "left"
          },
          "hovermode": "closest",
          "mapbox": {
           "style": "light"
          },
          "paper_bgcolor": "white",
          "plot_bgcolor": "#E5ECF6",
          "polar": {
           "angularaxis": {
            "gridcolor": "white",
            "linecolor": "white",
            "ticks": ""
           },
           "bgcolor": "#E5ECF6",
           "radialaxis": {
            "gridcolor": "white",
            "linecolor": "white",
            "ticks": ""
           }
          },
          "scene": {
           "xaxis": {
            "backgroundcolor": "#E5ECF6",
            "gridcolor": "white",
            "gridwidth": 2,
            "linecolor": "white",
            "showbackground": true,
            "ticks": "",
            "zerolinecolor": "white"
           },
           "yaxis": {
            "backgroundcolor": "#E5ECF6",
            "gridcolor": "white",
            "gridwidth": 2,
            "linecolor": "white",
            "showbackground": true,
            "ticks": "",
            "zerolinecolor": "white"
           },
           "zaxis": {
            "backgroundcolor": "#E5ECF6",
            "gridcolor": "white",
            "gridwidth": 2,
            "linecolor": "white",
            "showbackground": true,
            "ticks": "",
            "zerolinecolor": "white"
           }
          },
          "shapedefaults": {
           "line": {
            "color": "#2a3f5f"
           }
          },
          "ternary": {
           "aaxis": {
            "gridcolor": "white",
            "linecolor": "white",
            "ticks": ""
           },
           "baxis": {
            "gridcolor": "white",
            "linecolor": "white",
            "ticks": ""
           },
           "bgcolor": "#E5ECF6",
           "caxis": {
            "gridcolor": "white",
            "linecolor": "white",
            "ticks": ""
           }
          },
          "title": {
           "x": 0.05
          },
          "xaxis": {
           "automargin": true,
           "gridcolor": "white",
           "linecolor": "white",
           "ticks": "",
           "title": {
            "standoff": 15
           },
           "zerolinecolor": "white",
           "zerolinewidth": 2
          },
          "yaxis": {
           "automargin": true,
           "gridcolor": "white",
           "linecolor": "white",
           "ticks": "",
           "title": {
            "standoff": 15
           },
           "zerolinecolor": "white",
           "zerolinewidth": 2
          }
         }
        }
       }
      }
     },
     "metadata": {},
     "output_type": "display_data"
    }
   ],
   "source": [
    "n_focus_areas = grouped_df[\"focus_area\"].n_unique()\n",
    "ncols = 3\n",
    "subplot_details, indices =prep_subplot(n_focus_areas, ncols)\n",
    "fig = make_subplots(**subplot_details,\n",
    "    subplot_titles=[name[0] for name, _ in grouped_df.group_by(\"focus_area\")]\n",
    "    # TODO total time for focus area, and maybe percent of time spent here?\n",
    ")\n",
    "\n",
    "for ix, (name, data) in zip(indices, grouped_df.group_by(\"focus_area\")):\n",
    "    fig.add_trace(    \n",
    "        go.Pie(\n",
    "            labels=data[\"project\"].to_list(),\n",
    "            values=data[\"elapsed_time\"].cast(int).to_list(),\n",
    "            name = name[0]\n",
    "        ), \n",
    "        ix[0], ix[1]\n",
    "\n",
    "    )\n",
    "\n",
    "fig.update_traces(showlegend=False)\n",
    "\n",
    "fig.show()"
   ]
  },
  {
   "cell_type": "code",
   "execution_count": 27,
   "metadata": {},
   "outputs": [
    {
     "name": "stdout",
     "output_type": "stream",
     "text": [
      "personal_code\n",
      "phd\n",
      "admin\n",
      "career\n",
      "foundations\n"
     ]
    }
   ],
   "source": [
    "for name, data in grouped_df.group_by(\"focus_area\"):\n",
    "    print(name[0])\n",
    "    # print(data[\"project\"].to_list()\n",
    "    #       )\n",
    "    # # print(name, data.select(pl.col(\"project\"), pl.col(\"elapsed_time\")))"
   ]
  },
  {
   "cell_type": "code",
   "execution_count": null,
   "metadata": {},
   "outputs": [],
   "source": [
    "# subplot for each focus area.. \n",
    "# labels are the project worked on, values are the time worked on...\n",
    "# name is the focus area\n",
    "# get descriptions in there later, maybe using the suburst chart... "
   ]
  }
 ],
 "metadata": {
  "kernelspec": {
   "display_name": ".venv",
   "language": "python",
   "name": "python3"
  },
  "language_info": {
   "codemirror_mode": {
    "name": "ipython",
    "version": 3
   },
   "file_extension": ".py",
   "mimetype": "text/x-python",
   "name": "python",
   "nbconvert_exporter": "python",
   "pygments_lexer": "ipython3",
   "version": "3.13.0"
  }
 },
 "nbformat": 4,
 "nbformat_minor": 2
}

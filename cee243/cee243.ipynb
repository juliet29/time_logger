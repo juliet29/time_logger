{
 "cells": [
  {
   "cell_type": "code",
   "execution_count": 16,
   "metadata": {},
   "outputs": [],
   "source": [
    "from pathlib import Path\n",
    "import polars as pl\n",
    "import mdutils as md"
   ]
  },
  {
   "cell_type": "code",
   "execution_count": null,
   "metadata": {},
   "outputs": [
    {
     "data": {
      "text/plain": [
       "True"
      ]
     },
     "execution_count": 6,
     "metadata": {},
     "output_type": "execute_result"
    }
   ],
   "source": [
    "data_path = Path.cwd().parent / \"data\" / \"cee243_peer_responses.csv\"\n",
    "assert data_path.exists()"
   ]
  },
  {
   "cell_type": "code",
   "execution_count": 28,
   "metadata": {},
   "outputs": [
    {
     "data": {
      "text/plain": [
       "True"
      ]
     },
     "execution_count": 28,
     "metadata": {},
     "output_type": "execute_result"
    }
   ],
   "source": [
    "out_path = Path.cwd().parent / \"output_files\"\n",
    "out_path.exists()"
   ]
  },
  {
   "cell_type": "code",
   "execution_count": 31,
   "metadata": {},
   "outputs": [
    {
     "data": {
      "text/plain": [
       "'/Users/julietnwagwuume-ezeoke/_Projects24/time_logger/output_files'"
      ]
     },
     "execution_count": 31,
     "metadata": {},
     "output_type": "execute_result"
    }
   ],
   "source": [
    "str(out_path)"
   ]
  },
  {
   "cell_type": "code",
   "execution_count": 12,
   "metadata": {},
   "outputs": [
    {
     "data": {
      "text/html": [
       "<div><style>\n",
       ".dataframe > thead > tr,\n",
       ".dataframe > tbody > tr {\n",
       "  text-align: right;\n",
       "  white-space: pre-wrap;\n",
       "}\n",
       "</style>\n",
       "<small>shape: (103, 2)</small><table border=\"1\" class=\"dataframe\"><thead><tr><th>Group Presenting (number)</th><th>Additional comments</th></tr><tr><td>i64</td><td>str</td></tr></thead><tbody><tr><td>10</td><td>&quot;very well presented&quot;</td></tr><tr><td>10</td><td>&quot;agree with the reasoning to ad…</td></tr><tr><td>10</td><td>&quot;Great presentation, very detai…</td></tr><tr><td>10</td><td>&quot;I would like to hear more abou…</td></tr><tr><td>10</td><td>&quot;Great presentation and justifi…</td></tr><tr><td>&hellip;</td><td>&hellip;</td></tr><tr><td>3</td><td>&quot;I thought it was really intere…</td></tr><tr><td>3</td><td>&quot;I think it&#x27;s really interestin…</td></tr><tr><td>3</td><td>&quot;Great data findigns &quot;</td></tr><tr><td>3</td><td>&quot;Tree coverage is interesting i…</td></tr><tr><td>3</td><td>&quot;Good work! &quot;</td></tr></tbody></table></div>"
      ],
      "text/plain": [
       "shape: (103, 2)\n",
       "┌───────────────────────────┬─────────────────────────────────┐\n",
       "│ Group Presenting (number) ┆ Additional comments             │\n",
       "│ ---                       ┆ ---                             │\n",
       "│ i64                       ┆ str                             │\n",
       "╞═══════════════════════════╪═════════════════════════════════╡\n",
       "│ 10                        ┆ very well presented             │\n",
       "│ 10                        ┆ agree with the reasoning to ad… │\n",
       "│ 10                        ┆ Great presentation, very detai… │\n",
       "│ 10                        ┆ I would like to hear more abou… │\n",
       "│ 10                        ┆ Great presentation and justifi… │\n",
       "│ …                         ┆ …                               │\n",
       "│ 3                         ┆ I thought it was really intere… │\n",
       "│ 3                         ┆ I think it's really interestin… │\n",
       "│ 3                         ┆ Great data findigns             │\n",
       "│ 3                         ┆ Tree coverage is interesting i… │\n",
       "│ 3                         ┆ Good work!                      │\n",
       "└───────────────────────────┴─────────────────────────────────┘"
      ]
     },
     "execution_count": 12,
     "metadata": {},
     "output_type": "execute_result"
    }
   ],
   "source": [
    "df = pl.read_csv(data_path).select([\"Group Presenting (number)\", \"Additional comments\"]).drop_nulls()\n",
    "df"
   ]
  },
  {
   "cell_type": "code",
   "execution_count": 15,
   "metadata": {},
   "outputs": [
    {
     "data": {
      "text/html": [
       "<div><style>\n",
       ".dataframe > thead > tr,\n",
       ".dataframe > tbody > tr {\n",
       "  text-align: right;\n",
       "  white-space: pre-wrap;\n",
       "}\n",
       "</style>\n",
       "<small>shape: (10, 2)</small><table border=\"1\" class=\"dataframe\"><thead><tr><th>Group Presenting (number)</th><th>Additional comments</th></tr><tr><td>i64</td><td>list[str]</td></tr></thead><tbody><tr><td>4</td><td>[&quot;cool approach about editing an existing metric and comparing results&quot;, &quot;Great idea to use an existing effort (SCI) to reference and base their USSI off of, but also use as a way to figure out what they want to differentiate. This was also probably a great way to ensure the cities they were going to look at had relatively good data. &quot;, … &quot;nice job looking at existing metrics!&quot;]</td></tr><tr><td>6</td><td>[&quot;The focus on California made sense and I like how it gives a narrower scope. Really clear slides, loved it. &quot;, &quot;Great idea to narrow down the scope to California! Graphics for data sources was awesome&quot;, … &quot;It does seem like you have a lot of metrics so you might be limited by the data sources available &quot;]</td></tr><tr><td>1</td><td>[&quot;nice job with finding the water index!&quot;, &quot;I appreciate the clarity and simplicity, great clean energy index. Thorough data source exploration &quot;, … &quot;Yay!&quot;]</td></tr><tr><td>5</td><td>[&quot;I like the visualization of stocks and metrics under the 4 indices that were picked!&quot;, &quot;Appreciated the consideration of how to look at productivity (traditionally GDP) in terms of sustainability &quot;, … &quot;good job! &quot;]</td></tr><tr><td>10</td><td>[&quot;very well presented&quot;, &quot;agree with the reasoning to add the weighting system and I learned about the analytic hierarchy process (AHP)&quot;, … &quot;I was not convinced on how they are going to solve the issue of normalising the values across different units.&quot;]</td></tr><tr><td>3</td><td>[&quot;Great use of graphics in the ppt &quot;, &quot;interesting that they centered everything about humans and life expectancy, cool perspective!&quot;, … &quot;Good work! &quot;]</td></tr><tr><td>9</td><td>[&quot;interesting use of congressional districts in dividing up areas, and comprehensive study of tree canopy as well as other metrics! Also love the graphics&quot;, &quot;nice graphics! I love that they incorporated policy. Our group was considering that but weren&#x27;t sure how to glad someone found a way&quot;, … &quot;I appreciate how thorough the motivation was for this project, and really taking an emphasis on human life/lifestyle.&quot;]</td></tr><tr><td>8</td><td>[&quot;I love the addition of climate change as a system. It&#x27;s very uncertain, but impacts all 3 systems.&quot;, &quot;I liked the organization of your USSI and the ranking / weighting methodology you used. &quot;, … &quot;Really incredible systems model and focus on how the interventions can create domino effects and span across multiple indices&quot;]</td></tr><tr><td>2</td><td>[&quot;would this USSI be able to be applied to non-C40 cities or is the data just not there? I liked that the stocks were very simplified but had a lot of inflows and outflows that were quantified&quot;, &quot;I really appreciated the context of defining sustainability - this really helped to provide a foundation for the methodology/justification of your USSI. &quot;, … &quot;I really enjoyed their systems diagram showing the intersections of all the indexes. &quot;]</td></tr><tr><td>7</td><td>[&quot;I like how the group thought about normalizing the data!&quot;, &quot;I really liked how they did their weighting and showed their normalization process. &quot;, … &quot;Great discussion on the reason for developing a sustainability index for cities and how cities will become even more important as a driver for the future. Also liked including a discussion on qualitative factors regarding the cities. Very important. &quot;]</td></tr></tbody></table></div>"
      ],
      "text/plain": [
       "shape: (10, 2)\n",
       "┌───────────────────────────┬─────────────────────────────────┐\n",
       "│ Group Presenting (number) ┆ Additional comments             │\n",
       "│ ---                       ┆ ---                             │\n",
       "│ i64                       ┆ list[str]                       │\n",
       "╞═══════════════════════════╪═════════════════════════════════╡\n",
       "│ 4                         ┆ [\"cool approach about editing … │\n",
       "│ 6                         ┆ [\"The focus on California made… │\n",
       "│ 1                         ┆ [\"nice job with finding the wa… │\n",
       "│ 5                         ┆ [\"I like the visualization of … │\n",
       "│ 10                        ┆ [\"very well presented\", \"agree… │\n",
       "│ 3                         ┆ [\"Great use of graphics in the… │\n",
       "│ 9                         ┆ [\"interesting use of congressi… │\n",
       "│ 8                         ┆ [\"I love the addition of clima… │\n",
       "│ 2                         ┆ [\"would this USSI be able to b… │\n",
       "│ 7                         ┆ [\"I like how the group thought… │\n",
       "└───────────────────────────┴─────────────────────────────────┘"
      ]
     },
     "execution_count": 15,
     "metadata": {},
     "output_type": "execute_result"
    }
   ],
   "source": [
    "df_agg = df.group_by(\"Group Presenting (number)\").agg(pl.col(\"Additional comments\"))\n",
    "df_agg\n"
   ]
  },
  {
   "cell_type": "code",
   "execution_count": null,
   "metadata": {},
   "outputs": [
    {
     "name": "stdout",
     "output_type": "stream",
     "text": [
      "4\n",
      "6\n",
      "1\n",
      "5\n",
      "10\n",
      "3\n",
      "9\n",
      "8\n",
      "2\n",
      "7\n"
     ]
    }
   ],
   "source": []
  },
  {
   "cell_type": "code",
   "execution_count": null,
   "metadata": {},
   "outputs": [],
   "source": []
  },
  {
   "cell_type": "code",
   "execution_count": 50,
   "metadata": {},
   "outputs": [],
   "source": [
    "def create_md_file(group_name:int, comments:list):\n",
    "    file_name = str(out_path / f\"group_{group_name}.md\")\n",
    "    file_heading = f'Group {group_name} Comments'\n",
    "    file  = md.MdUtils(file_name=file_name ,title=file_heading)\n",
    "\n",
    "    file.new_list(comments)\n",
    "    file.create_md_file()\n",
    "\n",
    "    return file\n",
    "\n",
    "    "
   ]
  },
  {
   "cell_type": "code",
   "execution_count": 51,
   "metadata": {},
   "outputs": [],
   "source": [
    "for group_name, comments in df_agg.iter_rows():\n",
    "    create_md_file(group_name, comments)"
   ]
  },
  {
   "cell_type": "code",
   "execution_count": 48,
   "metadata": {},
   "outputs": [
    {
     "data": {
      "text/plain": [
       "<mdutils.fileutils.fileutils.MarkDownFile at 0x10828ebd0>"
      ]
     },
     "execution_count": 48,
     "metadata": {},
     "output_type": "execute_result"
    }
   ],
   "source": [
    "file = create_md_file(8, [\"hi\", \"by\", \"sky\"])\n",
    "file.create_md_file()"
   ]
  },
  {
   "cell_type": "code",
   "execution_count": null,
   "metadata": {},
   "outputs": [],
   "source": [
    "file.new_list()"
   ]
  },
  {
   "cell_type": "code",
   "execution_count": null,
   "metadata": {},
   "outputs": [
    {
     "data": {
      "text/html": [
       "<div><style>\n",
       ".dataframe > thead > tr,\n",
       ".dataframe > tbody > tr {\n",
       "  text-align: right;\n",
       "  white-space: pre-wrap;\n",
       "}\n",
       "</style>\n",
       "<small>shape: (7,)</small><table border=\"1\" class=\"dataframe\"><thead><tr><th></th></tr><tr><td>str</td></tr></thead><tbody><tr><td>&quot;cool approach about editing an…</td></tr><tr><td>&quot;Great idea to use an existing …</td></tr><tr><td>&quot;The indicator radar charts wer…</td></tr><tr><td>&quot;I am interested to know what a…</td></tr><tr><td>&quot;I like how you used existing s…</td></tr><tr><td>&quot;Good job!&quot;</td></tr><tr><td>&quot;nice job looking at existing m…</td></tr></tbody></table></div>"
      ],
      "text/plain": [
       "shape: (7,)\n",
       "Series: '' [str]\n",
       "[\n",
       "\t\"cool approach about editing an…\n",
       "\t\"Great idea to use an existing …\n",
       "\t\"The indicator radar charts wer…\n",
       "\t\"I am interested to know what a…\n",
       "\t\"I like how you used existing s…\n",
       "\t\"Good job!\"\n",
       "\t\"nice job looking at existing m…\n",
       "]"
      ]
     },
     "execution_count": 24,
     "metadata": {},
     "output_type": "execute_result"
    }
   ],
   "source": [
    "df_agg[\"Additional comments\"]"
   ]
  },
  {
   "cell_type": "code",
   "execution_count": 17,
   "metadata": {},
   "outputs": [
    {
     "data": {
      "text/plain": [
       "<mdutils.mdutils.MdUtils at 0x1081fb230>"
      ]
     },
     "execution_count": 17,
     "metadata": {},
     "output_type": "execute_result"
    }
   ],
   "source": [
    "file  = md.MdUtils(file_name='Example_Markdown',title='Markdown File Example')\n",
    "file\n"
   ]
  },
  {
   "cell_type": "code",
   "execution_count": 18,
   "metadata": {},
   "outputs": [
    {
     "data": {
      "text/plain": [
       "'\\n# Atx Header 1\\n'"
      ]
     },
     "execution_count": 18,
     "metadata": {},
     "output_type": "execute_result"
    }
   ],
   "source": [
    "file.new_header(level=1, title='Atx Header 1')"
   ]
  },
  {
   "cell_type": "code",
   "execution_count": 22,
   "metadata": {},
   "outputs": [
    {
     "data": {
      "text/plain": [
       "'\\n# Atx Header 1\\n  \\nhello my friend'"
      ]
     },
     "execution_count": 22,
     "metadata": {},
     "output_type": "execute_result"
    }
   ],
   "source": [
    "file.new_line(\"hello my friend\")"
   ]
  },
  {
   "cell_type": "code",
   "execution_count": 21,
   "metadata": {},
   "outputs": [
    {
     "name": "stdout",
     "output_type": "stream",
     "text": [
      "<mdutils.tools.MDList.MDList object at 0x1082396d0>\n"
     ]
    }
   ],
   "source": [
    "mlist = md.tools.MDList([\"hi\", \"by\", \"sky\"])\n",
    "print(repr(mlist))"
   ]
  }
 ],
 "metadata": {
  "kernelspec": {
   "display_name": ".venv",
   "language": "python",
   "name": "python3"
  },
  "language_info": {
   "codemirror_mode": {
    "name": "ipython",
    "version": 3
   },
   "file_extension": ".py",
   "mimetype": "text/x-python",
   "name": "python",
   "nbconvert_exporter": "python",
   "pygments_lexer": "ipython3",
   "version": "3.13.0"
  }
 },
 "nbformat": 4,
 "nbformat_minor": 2
}

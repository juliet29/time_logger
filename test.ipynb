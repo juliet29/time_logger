{
 "cells": [
  {
   "cell_type": "code",
   "execution_count": 82,
   "metadata": {},
   "outputs": [
    {
     "name": "stdout",
     "output_type": "stream",
     "text": [
      "The autoreload extension is already loaded. To reload it, use:\n",
      "  %reload_ext autoreload\n"
     ]
    }
   ],
   "source": [
    "%load_ext autoreload\n",
    "%autoreload 2"
   ]
  },
  {
   "cell_type": "code",
   "execution_count": 83,
   "metadata": {},
   "outputs": [],
   "source": [
    "from pathlib import Path\n",
    "import sys\n",
    "sys.path.append(str(Path.cwd() / \"src\"))"
   ]
  },
  {
   "cell_type": "code",
   "execution_count": 84,
   "metadata": {},
   "outputs": [],
   "source": [
    "import datetime\n",
    "\n",
    "import matplotlib.pyplot as plt\n",
    "import numpy as np\n",
    "import polars as pl\n",
    "from copy import deepcopy\n",
    "import seaborn.objects as so\n",
    "import plotly.express as px\n",
    "import pandas as pd\n",
    "\n",
    "\n",
    "from variables import get_db_path\n",
    "from db_commands.connect import connect_to_real_db \n",
    "from db_commands.read import read_all_entries, aggregate_focus_project_date\n"
   ]
  },
  {
   "cell_type": "code",
   "execution_count": 107,
   "metadata": {},
   "outputs": [
    {
     "data": {
      "text/html": [
       "<div><style>\n",
       ".dataframe > thead > tr,\n",
       ".dataframe > tbody > tr {\n",
       "  text-align: right;\n",
       "  white-space: pre-wrap;\n",
       "}\n",
       "</style>\n",
       "<small>shape: (10, 4)</small><table border=\"1\" class=\"dataframe\"><thead><tr><th>focus_area</th><th>date</th><th>elapsed_time</th><th>project</th></tr><tr><td>str</td><td>str</td><td>duration[ms]</td><td>list[str]</td></tr></thead><tbody><tr><td>&quot;phd&quot;</td><td>&quot;2024-12-13&quot;</td><td>32m</td><td>[&quot;SERC&quot;]</td></tr><tr><td>&quot;personal_code&quot;</td><td>&quot;2024-12-18&quot;</td><td>1h 47m</td><td>[&quot;slowcial&quot;]</td></tr><tr><td>&quot;foundations&quot;</td><td>&quot;2024-12-18&quot;</td><td>1h 30m</td><td>[&quot;probabilistic graphical models&quot;]</td></tr><tr><td>&quot;personal_code&quot;</td><td>&quot;2024-12-05&quot;</td><td>2h 19m</td><td>[&quot;time_logger&quot;]</td></tr><tr><td>&quot;career&quot;</td><td>&quot;2024-12-20&quot;</td><td>2h 37m</td><td>[&quot;summer24 job application&quot;]</td></tr><tr><td>&quot;career&quot;</td><td>&quot;2024-12-13&quot;</td><td>3h 39m</td><td>[&quot;summer24 job application&quot;]</td></tr><tr><td>&quot;admin&quot;</td><td>&quot;2024-12-14&quot;</td><td>3h 17m</td><td>[&quot;cee243&quot;]</td></tr><tr><td>&quot;personal_code&quot;</td><td>&quot;2024-12-07&quot;</td><td>1h 55m</td><td>[&quot;slowcial&quot;]</td></tr><tr><td>&quot;personal_code&quot;</td><td>&quot;2024-12-11&quot;</td><td>1h 49m</td><td>[&quot;time_logger&quot;]</td></tr><tr><td>&quot;career&quot;</td><td>&quot;2024-12-06&quot;</td><td>1h 32m</td><td>[&quot;building africa&#x27;s cities summit&quot;]</td></tr></tbody></table></div>"
      ],
      "text/plain": [
       "shape: (10, 4)\n",
       "┌───────────────┬────────────┬──────────────┬─────────────────────────────────┐\n",
       "│ focus_area    ┆ date       ┆ elapsed_time ┆ project                         │\n",
       "│ ---           ┆ ---        ┆ ---          ┆ ---                             │\n",
       "│ str           ┆ str        ┆ duration[ms] ┆ list[str]                       │\n",
       "╞═══════════════╪════════════╪══════════════╪═════════════════════════════════╡\n",
       "│ phd           ┆ 2024-12-13 ┆ 32m          ┆ [\"SERC\"]                        │\n",
       "│ personal_code ┆ 2024-12-18 ┆ 1h 47m       ┆ [\"slowcial\"]                    │\n",
       "│ foundations   ┆ 2024-12-18 ┆ 1h 30m       ┆ [\"probabilistic graphical mode… │\n",
       "│ personal_code ┆ 2024-12-05 ┆ 2h 19m       ┆ [\"time_logger\"]                 │\n",
       "│ career        ┆ 2024-12-20 ┆ 2h 37m       ┆ [\"summer24 job application\"]    │\n",
       "│ career        ┆ 2024-12-13 ┆ 3h 39m       ┆ [\"summer24 job application\"]    │\n",
       "│ admin         ┆ 2024-12-14 ┆ 3h 17m       ┆ [\"cee243\"]                      │\n",
       "│ personal_code ┆ 2024-12-07 ┆ 1h 55m       ┆ [\"slowcial\"]                    │\n",
       "│ personal_code ┆ 2024-12-11 ┆ 1h 49m       ┆ [\"time_logger\"]                 │\n",
       "│ career        ┆ 2024-12-06 ┆ 1h 32m       ┆ [\"building africa's cities sum… │\n",
       "└───────────────┴────────────┴──────────────┴─────────────────────────────────┘"
      ]
     },
     "execution_count": 107,
     "metadata": {},
     "output_type": "execute_result"
    }
   ],
   "source": [
    "connection = connect_to_real_db(get_db_path())\n",
    "df = read_all_entries(connection)\n",
    "df_agg = aggregate_focus_project_date(df)\n",
    "df_agg = df_agg.group_by(\"focus_area\", \"date\").agg([pl.col(\"elapsed_time\").sum(), pl.col(\"project\")])\n",
    "df_agg"
   ]
  },
  {
   "cell_type": "code",
   "execution_count": 108,
   "metadata": {},
   "outputs": [
    {
     "data": {
      "text/html": [
       "<div>\n",
       "<style scoped>\n",
       "    .dataframe tbody tr th:only-of-type {\n",
       "        vertical-align: middle;\n",
       "    }\n",
       "\n",
       "    .dataframe tbody tr th {\n",
       "        vertical-align: top;\n",
       "    }\n",
       "\n",
       "    .dataframe thead th {\n",
       "        text-align: right;\n",
       "    }\n",
       "</style>\n",
       "<table border=\"1\" class=\"dataframe\">\n",
       "  <thead>\n",
       "    <tr style=\"text-align: right;\">\n",
       "      <th></th>\n",
       "      <th>focus_area</th>\n",
       "      <th>date</th>\n",
       "      <th>elapsed_time</th>\n",
       "      <th>project</th>\n",
       "    </tr>\n",
       "  </thead>\n",
       "  <tbody>\n",
       "    <tr>\n",
       "      <th>0</th>\n",
       "      <td>phd</td>\n",
       "      <td>2024-12-13</td>\n",
       "      <td>0 days 00:32:00</td>\n",
       "      <td>[SERC]</td>\n",
       "    </tr>\n",
       "    <tr>\n",
       "      <th>1</th>\n",
       "      <td>personal_code</td>\n",
       "      <td>2024-12-18</td>\n",
       "      <td>0 days 01:47:00</td>\n",
       "      <td>[slowcial]</td>\n",
       "    </tr>\n",
       "    <tr>\n",
       "      <th>2</th>\n",
       "      <td>foundations</td>\n",
       "      <td>2024-12-18</td>\n",
       "      <td>0 days 01:30:00</td>\n",
       "      <td>[probabilistic graphical models]</td>\n",
       "    </tr>\n",
       "    <tr>\n",
       "      <th>3</th>\n",
       "      <td>personal_code</td>\n",
       "      <td>2024-12-05</td>\n",
       "      <td>0 days 02:19:00</td>\n",
       "      <td>[time_logger]</td>\n",
       "    </tr>\n",
       "    <tr>\n",
       "      <th>4</th>\n",
       "      <td>career</td>\n",
       "      <td>2024-12-20</td>\n",
       "      <td>0 days 02:37:00</td>\n",
       "      <td>[summer24 job application]</td>\n",
       "    </tr>\n",
       "    <tr>\n",
       "      <th>5</th>\n",
       "      <td>career</td>\n",
       "      <td>2024-12-13</td>\n",
       "      <td>0 days 03:39:00</td>\n",
       "      <td>[summer24 job application]</td>\n",
       "    </tr>\n",
       "    <tr>\n",
       "      <th>6</th>\n",
       "      <td>admin</td>\n",
       "      <td>2024-12-14</td>\n",
       "      <td>0 days 03:17:00</td>\n",
       "      <td>[cee243]</td>\n",
       "    </tr>\n",
       "    <tr>\n",
       "      <th>7</th>\n",
       "      <td>personal_code</td>\n",
       "      <td>2024-12-07</td>\n",
       "      <td>0 days 01:55:00</td>\n",
       "      <td>[slowcial]</td>\n",
       "    </tr>\n",
       "    <tr>\n",
       "      <th>8</th>\n",
       "      <td>personal_code</td>\n",
       "      <td>2024-12-11</td>\n",
       "      <td>0 days 01:49:00</td>\n",
       "      <td>[time_logger]</td>\n",
       "    </tr>\n",
       "    <tr>\n",
       "      <th>9</th>\n",
       "      <td>career</td>\n",
       "      <td>2024-12-06</td>\n",
       "      <td>0 days 01:32:00</td>\n",
       "      <td>[building africa's cities summit]</td>\n",
       "    </tr>\n",
       "  </tbody>\n",
       "</table>\n",
       "</div>"
      ],
      "text/plain": [
       "      focus_area        date    elapsed_time  \\\n",
       "0            phd  2024-12-13 0 days 00:32:00   \n",
       "1  personal_code  2024-12-18 0 days 01:47:00   \n",
       "2    foundations  2024-12-18 0 days 01:30:00   \n",
       "3  personal_code  2024-12-05 0 days 02:19:00   \n",
       "4         career  2024-12-20 0 days 02:37:00   \n",
       "5         career  2024-12-13 0 days 03:39:00   \n",
       "6          admin  2024-12-14 0 days 03:17:00   \n",
       "7  personal_code  2024-12-07 0 days 01:55:00   \n",
       "8  personal_code  2024-12-11 0 days 01:49:00   \n",
       "9         career  2024-12-06 0 days 01:32:00   \n",
       "\n",
       "                             project  \n",
       "0                             [SERC]  \n",
       "1                         [slowcial]  \n",
       "2   [probabilistic graphical models]  \n",
       "3                      [time_logger]  \n",
       "4         [summer24 job application]  \n",
       "5         [summer24 job application]  \n",
       "6                           [cee243]  \n",
       "7                         [slowcial]  \n",
       "8                      [time_logger]  \n",
       "9  [building africa's cities summit]  "
      ]
     },
     "execution_count": 108,
     "metadata": {},
     "output_type": "execute_result"
    }
   ],
   "source": [
    "df_pandas = df_agg.with_columns(elapsed_time=pl.col(\"elapsed_time\").cast(datetime.timedelta)).to_pandas()\n",
    "df_pandas[\"elapsed_time\"] = df_pandas[\"elapsed_time\"].dt.to_pytimedelta()\n",
    "df_pandas"
   ]
  },
  {
   "cell_type": "code",
   "execution_count": 124,
   "metadata": {},
   "outputs": [
    {
     "data": {
      "text/html": [
       "<div>\n",
       "<style scoped>\n",
       "    .dataframe tbody tr th:only-of-type {\n",
       "        vertical-align: middle;\n",
       "    }\n",
       "\n",
       "    .dataframe tbody tr th {\n",
       "        vertical-align: top;\n",
       "    }\n",
       "\n",
       "    .dataframe thead th {\n",
       "        text-align: right;\n",
       "    }\n",
       "</style>\n",
       "<table border=\"1\" class=\"dataframe\">\n",
       "  <thead>\n",
       "    <tr style=\"text-align: right;\">\n",
       "      <th></th>\n",
       "      <th>date</th>\n",
       "      <th>elapsed_time</th>\n",
       "    </tr>\n",
       "  </thead>\n",
       "  <tbody>\n",
       "    <tr>\n",
       "      <th>0</th>\n",
       "      <td>2024-12-20</td>\n",
       "      <td>0 days 02:37:00</td>\n",
       "    </tr>\n",
       "    <tr>\n",
       "      <th>1</th>\n",
       "      <td>2024-12-11</td>\n",
       "      <td>0 days 01:49:00</td>\n",
       "    </tr>\n",
       "    <tr>\n",
       "      <th>2</th>\n",
       "      <td>2024-12-07</td>\n",
       "      <td>0 days 01:55:00</td>\n",
       "    </tr>\n",
       "    <tr>\n",
       "      <th>3</th>\n",
       "      <td>2024-12-18</td>\n",
       "      <td>0 days 03:17:00</td>\n",
       "    </tr>\n",
       "    <tr>\n",
       "      <th>4</th>\n",
       "      <td>2024-12-13</td>\n",
       "      <td>0 days 04:11:00</td>\n",
       "    </tr>\n",
       "    <tr>\n",
       "      <th>5</th>\n",
       "      <td>2024-12-14</td>\n",
       "      <td>0 days 03:17:00</td>\n",
       "    </tr>\n",
       "    <tr>\n",
       "      <th>6</th>\n",
       "      <td>2024-12-05</td>\n",
       "      <td>0 days 02:19:00</td>\n",
       "    </tr>\n",
       "    <tr>\n",
       "      <th>7</th>\n",
       "      <td>2024-12-06</td>\n",
       "      <td>0 days 01:32:00</td>\n",
       "    </tr>\n",
       "  </tbody>\n",
       "</table>\n",
       "</div>"
      ],
      "text/plain": [
       "         date    elapsed_time\n",
       "0  2024-12-20 0 days 02:37:00\n",
       "1  2024-12-11 0 days 01:49:00\n",
       "2  2024-12-07 0 days 01:55:00\n",
       "3  2024-12-18 0 days 03:17:00\n",
       "4  2024-12-13 0 days 04:11:00\n",
       "5  2024-12-14 0 days 03:17:00\n",
       "6  2024-12-05 0 days 02:19:00\n",
       "7  2024-12-06 0 days 01:32:00"
      ]
     },
     "execution_count": 124,
     "metadata": {},
     "output_type": "execute_result"
    }
   ],
   "source": [
    "df_time = df_agg.group_by(\"date\").agg(pl.col(\"elapsed_time\").sum()).to_pandas()\n",
    "df_time"
   ]
  },
  {
   "cell_type": "code",
   "execution_count": 125,
   "metadata": {},
   "outputs": [
    {
     "data": {
      "text/plain": [
       "['00:00',\n",
       " '00:30',\n",
       " '01:00',\n",
       " '01:30',\n",
       " '02:00',\n",
       " '02:30',\n",
       " '03:00',\n",
       " '03:30',\n",
       " '04:00']"
      ]
     },
     "execution_count": 125,
     "metadata": {},
     "output_type": "execute_result"
    }
   ],
   "source": [
    "min_time = df_time[\"elapsed_time\"].min()\n",
    "max_time = df_time[\"elapsed_time\"].max()\n",
    "\n",
    "# TODO fx, where increase the frequency if the number of tick vals\n",
    "tick_values = pd.timedelta_range(\"0\", max_time, freq=\"30min\", )\n",
    "tick_ints = tick_values.astype(int)\n",
    "format_timedelta = lambda v: f\"{v.components.hours:0>2d}:{v.components.minutes:0>2d}\"\n",
    "tick_strings = [format_timedelta(i) for i in tick_values]\n",
    "df_pandas[\"Time\"] = df_pandas[\"elapsed_time\"].apply(format_timedelta)\n",
    "tick_strings"
   ]
  },
  {
   "cell_type": "code",
   "execution_count": 126,
   "metadata": {},
   "outputs": [
    {
     "data": {
      "application/vnd.plotly.v1+json": {
       "config": {
        "plotlyServerURL": "https://plotly.com"
       },
       "data": [
        {
         "alignmentgroup": "True",
         "customdata": [
          [
           "phd",
           "00:32",
           [
            "SERC"
           ]
          ]
         ],
         "hovertemplate": "<b>%{hovertext}</b><br><br>date=%{x}<br>Time=%{customdata[1]}<br>project=%{customdata[2]}<extra></extra>",
         "hovertext": [
          "phd"
         ],
         "legendgroup": "phd",
         "marker": {
          "color": "#636efa",
          "pattern": {
           "shape": ""
          }
         },
         "name": "phd",
         "offsetgroup": "phd",
         "orientation": "v",
         "showlegend": true,
         "textposition": "auto",
         "type": "bar",
         "x": [
          "2024-12-13"
         ],
         "xaxis": "x",
         "y": [
          1920000000000
         ],
         "yaxis": "y"
        },
        {
         "alignmentgroup": "True",
         "customdata": [
          [
           "personal_code",
           "01:47",
           [
            "slowcial"
           ]
          ],
          [
           "personal_code",
           "02:19",
           [
            "time_logger"
           ]
          ],
          [
           "personal_code",
           "01:55",
           [
            "slowcial"
           ]
          ],
          [
           "personal_code",
           "01:49",
           [
            "time_logger"
           ]
          ]
         ],
         "hovertemplate": "<b>%{hovertext}</b><br><br>date=%{x}<br>Time=%{customdata[1]}<br>project=%{customdata[2]}<extra></extra>",
         "hovertext": [
          "personal_code",
          "personal_code",
          "personal_code",
          "personal_code"
         ],
         "legendgroup": "personal_code",
         "marker": {
          "color": "#EF553B",
          "pattern": {
           "shape": ""
          }
         },
         "name": "personal_code",
         "offsetgroup": "personal_code",
         "orientation": "v",
         "showlegend": true,
         "textposition": "auto",
         "type": "bar",
         "x": [
          "2024-12-18",
          "2024-12-05",
          "2024-12-07",
          "2024-12-11"
         ],
         "xaxis": "x",
         "y": [
          6420000000000,
          8340000000000,
          6900000000000,
          6540000000000
         ],
         "yaxis": "y"
        },
        {
         "alignmentgroup": "True",
         "customdata": [
          [
           "foundations",
           "01:30",
           [
            "probabilistic graphical models"
           ]
          ]
         ],
         "hovertemplate": "<b>%{hovertext}</b><br><br>date=%{x}<br>Time=%{customdata[1]}<br>project=%{customdata[2]}<extra></extra>",
         "hovertext": [
          "foundations"
         ],
         "legendgroup": "foundations",
         "marker": {
          "color": "#00cc96",
          "pattern": {
           "shape": ""
          }
         },
         "name": "foundations",
         "offsetgroup": "foundations",
         "orientation": "v",
         "showlegend": true,
         "textposition": "auto",
         "type": "bar",
         "x": [
          "2024-12-18"
         ],
         "xaxis": "x",
         "y": [
          5400000000000
         ],
         "yaxis": "y"
        },
        {
         "alignmentgroup": "True",
         "customdata": [
          [
           "career",
           "02:37",
           [
            "summer24 job application"
           ]
          ],
          [
           "career",
           "03:39",
           [
            "summer24 job application"
           ]
          ],
          [
           "career",
           "01:32",
           [
            "building africa's cities summit"
           ]
          ]
         ],
         "hovertemplate": "<b>%{hovertext}</b><br><br>date=%{x}<br>Time=%{customdata[1]}<br>project=%{customdata[2]}<extra></extra>",
         "hovertext": [
          "career",
          "career",
          "career"
         ],
         "legendgroup": "career",
         "marker": {
          "color": "#ab63fa",
          "pattern": {
           "shape": ""
          }
         },
         "name": "career",
         "offsetgroup": "career",
         "orientation": "v",
         "showlegend": true,
         "textposition": "auto",
         "type": "bar",
         "x": [
          "2024-12-20",
          "2024-12-13",
          "2024-12-06"
         ],
         "xaxis": "x",
         "y": [
          9420000000000,
          13140000000000,
          5520000000000
         ],
         "yaxis": "y"
        },
        {
         "alignmentgroup": "True",
         "customdata": [
          [
           "admin",
           "03:17",
           [
            "cee243"
           ]
          ]
         ],
         "hovertemplate": "<b>%{hovertext}</b><br><br>date=%{x}<br>Time=%{customdata[1]}<br>project=%{customdata[2]}<extra></extra>",
         "hovertext": [
          "admin"
         ],
         "legendgroup": "admin",
         "marker": {
          "color": "#FFA15A",
          "pattern": {
           "shape": ""
          }
         },
         "name": "admin",
         "offsetgroup": "admin",
         "orientation": "v",
         "showlegend": true,
         "textposition": "auto",
         "type": "bar",
         "x": [
          "2024-12-14"
         ],
         "xaxis": "x",
         "y": [
          11820000000000
         ],
         "yaxis": "y"
        }
       ],
       "layout": {
        "barmode": "relative",
        "legend": {
         "title": {
          "text": "focus_area"
         },
         "tracegroupgap": 0
        },
        "margin": {
         "t": 60
        },
        "template": {
         "data": {
          "bar": [
           {
            "error_x": {
             "color": "#2a3f5f"
            },
            "error_y": {
             "color": "#2a3f5f"
            },
            "marker": {
             "line": {
              "color": "#E5ECF6",
              "width": 0.5
             },
             "pattern": {
              "fillmode": "overlay",
              "size": 10,
              "solidity": 0.2
             }
            },
            "type": "bar"
           }
          ],
          "barpolar": [
           {
            "marker": {
             "line": {
              "color": "#E5ECF6",
              "width": 0.5
             },
             "pattern": {
              "fillmode": "overlay",
              "size": 10,
              "solidity": 0.2
             }
            },
            "type": "barpolar"
           }
          ],
          "carpet": [
           {
            "aaxis": {
             "endlinecolor": "#2a3f5f",
             "gridcolor": "white",
             "linecolor": "white",
             "minorgridcolor": "white",
             "startlinecolor": "#2a3f5f"
            },
            "baxis": {
             "endlinecolor": "#2a3f5f",
             "gridcolor": "white",
             "linecolor": "white",
             "minorgridcolor": "white",
             "startlinecolor": "#2a3f5f"
            },
            "type": "carpet"
           }
          ],
          "choropleth": [
           {
            "colorbar": {
             "outlinewidth": 0,
             "ticks": ""
            },
            "type": "choropleth"
           }
          ],
          "contour": [
           {
            "colorbar": {
             "outlinewidth": 0,
             "ticks": ""
            },
            "colorscale": [
             [
              0,
              "#0d0887"
             ],
             [
              0.1111111111111111,
              "#46039f"
             ],
             [
              0.2222222222222222,
              "#7201a8"
             ],
             [
              0.3333333333333333,
              "#9c179e"
             ],
             [
              0.4444444444444444,
              "#bd3786"
             ],
             [
              0.5555555555555556,
              "#d8576b"
             ],
             [
              0.6666666666666666,
              "#ed7953"
             ],
             [
              0.7777777777777778,
              "#fb9f3a"
             ],
             [
              0.8888888888888888,
              "#fdca26"
             ],
             [
              1,
              "#f0f921"
             ]
            ],
            "type": "contour"
           }
          ],
          "contourcarpet": [
           {
            "colorbar": {
             "outlinewidth": 0,
             "ticks": ""
            },
            "type": "contourcarpet"
           }
          ],
          "heatmap": [
           {
            "colorbar": {
             "outlinewidth": 0,
             "ticks": ""
            },
            "colorscale": [
             [
              0,
              "#0d0887"
             ],
             [
              0.1111111111111111,
              "#46039f"
             ],
             [
              0.2222222222222222,
              "#7201a8"
             ],
             [
              0.3333333333333333,
              "#9c179e"
             ],
             [
              0.4444444444444444,
              "#bd3786"
             ],
             [
              0.5555555555555556,
              "#d8576b"
             ],
             [
              0.6666666666666666,
              "#ed7953"
             ],
             [
              0.7777777777777778,
              "#fb9f3a"
             ],
             [
              0.8888888888888888,
              "#fdca26"
             ],
             [
              1,
              "#f0f921"
             ]
            ],
            "type": "heatmap"
           }
          ],
          "heatmapgl": [
           {
            "colorbar": {
             "outlinewidth": 0,
             "ticks": ""
            },
            "colorscale": [
             [
              0,
              "#0d0887"
             ],
             [
              0.1111111111111111,
              "#46039f"
             ],
             [
              0.2222222222222222,
              "#7201a8"
             ],
             [
              0.3333333333333333,
              "#9c179e"
             ],
             [
              0.4444444444444444,
              "#bd3786"
             ],
             [
              0.5555555555555556,
              "#d8576b"
             ],
             [
              0.6666666666666666,
              "#ed7953"
             ],
             [
              0.7777777777777778,
              "#fb9f3a"
             ],
             [
              0.8888888888888888,
              "#fdca26"
             ],
             [
              1,
              "#f0f921"
             ]
            ],
            "type": "heatmapgl"
           }
          ],
          "histogram": [
           {
            "marker": {
             "pattern": {
              "fillmode": "overlay",
              "size": 10,
              "solidity": 0.2
             }
            },
            "type": "histogram"
           }
          ],
          "histogram2d": [
           {
            "colorbar": {
             "outlinewidth": 0,
             "ticks": ""
            },
            "colorscale": [
             [
              0,
              "#0d0887"
             ],
             [
              0.1111111111111111,
              "#46039f"
             ],
             [
              0.2222222222222222,
              "#7201a8"
             ],
             [
              0.3333333333333333,
              "#9c179e"
             ],
             [
              0.4444444444444444,
              "#bd3786"
             ],
             [
              0.5555555555555556,
              "#d8576b"
             ],
             [
              0.6666666666666666,
              "#ed7953"
             ],
             [
              0.7777777777777778,
              "#fb9f3a"
             ],
             [
              0.8888888888888888,
              "#fdca26"
             ],
             [
              1,
              "#f0f921"
             ]
            ],
            "type": "histogram2d"
           }
          ],
          "histogram2dcontour": [
           {
            "colorbar": {
             "outlinewidth": 0,
             "ticks": ""
            },
            "colorscale": [
             [
              0,
              "#0d0887"
             ],
             [
              0.1111111111111111,
              "#46039f"
             ],
             [
              0.2222222222222222,
              "#7201a8"
             ],
             [
              0.3333333333333333,
              "#9c179e"
             ],
             [
              0.4444444444444444,
              "#bd3786"
             ],
             [
              0.5555555555555556,
              "#d8576b"
             ],
             [
              0.6666666666666666,
              "#ed7953"
             ],
             [
              0.7777777777777778,
              "#fb9f3a"
             ],
             [
              0.8888888888888888,
              "#fdca26"
             ],
             [
              1,
              "#f0f921"
             ]
            ],
            "type": "histogram2dcontour"
           }
          ],
          "mesh3d": [
           {
            "colorbar": {
             "outlinewidth": 0,
             "ticks": ""
            },
            "type": "mesh3d"
           }
          ],
          "parcoords": [
           {
            "line": {
             "colorbar": {
              "outlinewidth": 0,
              "ticks": ""
             }
            },
            "type": "parcoords"
           }
          ],
          "pie": [
           {
            "automargin": true,
            "type": "pie"
           }
          ],
          "scatter": [
           {
            "fillpattern": {
             "fillmode": "overlay",
             "size": 10,
             "solidity": 0.2
            },
            "type": "scatter"
           }
          ],
          "scatter3d": [
           {
            "line": {
             "colorbar": {
              "outlinewidth": 0,
              "ticks": ""
             }
            },
            "marker": {
             "colorbar": {
              "outlinewidth": 0,
              "ticks": ""
             }
            },
            "type": "scatter3d"
           }
          ],
          "scattercarpet": [
           {
            "marker": {
             "colorbar": {
              "outlinewidth": 0,
              "ticks": ""
             }
            },
            "type": "scattercarpet"
           }
          ],
          "scattergeo": [
           {
            "marker": {
             "colorbar": {
              "outlinewidth": 0,
              "ticks": ""
             }
            },
            "type": "scattergeo"
           }
          ],
          "scattergl": [
           {
            "marker": {
             "colorbar": {
              "outlinewidth": 0,
              "ticks": ""
             }
            },
            "type": "scattergl"
           }
          ],
          "scattermapbox": [
           {
            "marker": {
             "colorbar": {
              "outlinewidth": 0,
              "ticks": ""
             }
            },
            "type": "scattermapbox"
           }
          ],
          "scatterpolar": [
           {
            "marker": {
             "colorbar": {
              "outlinewidth": 0,
              "ticks": ""
             }
            },
            "type": "scatterpolar"
           }
          ],
          "scatterpolargl": [
           {
            "marker": {
             "colorbar": {
              "outlinewidth": 0,
              "ticks": ""
             }
            },
            "type": "scatterpolargl"
           }
          ],
          "scatterternary": [
           {
            "marker": {
             "colorbar": {
              "outlinewidth": 0,
              "ticks": ""
             }
            },
            "type": "scatterternary"
           }
          ],
          "surface": [
           {
            "colorbar": {
             "outlinewidth": 0,
             "ticks": ""
            },
            "colorscale": [
             [
              0,
              "#0d0887"
             ],
             [
              0.1111111111111111,
              "#46039f"
             ],
             [
              0.2222222222222222,
              "#7201a8"
             ],
             [
              0.3333333333333333,
              "#9c179e"
             ],
             [
              0.4444444444444444,
              "#bd3786"
             ],
             [
              0.5555555555555556,
              "#d8576b"
             ],
             [
              0.6666666666666666,
              "#ed7953"
             ],
             [
              0.7777777777777778,
              "#fb9f3a"
             ],
             [
              0.8888888888888888,
              "#fdca26"
             ],
             [
              1,
              "#f0f921"
             ]
            ],
            "type": "surface"
           }
          ],
          "table": [
           {
            "cells": {
             "fill": {
              "color": "#EBF0F8"
             },
             "line": {
              "color": "white"
             }
            },
            "header": {
             "fill": {
              "color": "#C8D4E3"
             },
             "line": {
              "color": "white"
             }
            },
            "type": "table"
           }
          ]
         },
         "layout": {
          "annotationdefaults": {
           "arrowcolor": "#2a3f5f",
           "arrowhead": 0,
           "arrowwidth": 1
          },
          "autotypenumbers": "strict",
          "coloraxis": {
           "colorbar": {
            "outlinewidth": 0,
            "ticks": ""
           }
          },
          "colorscale": {
           "diverging": [
            [
             0,
             "#8e0152"
            ],
            [
             0.1,
             "#c51b7d"
            ],
            [
             0.2,
             "#de77ae"
            ],
            [
             0.3,
             "#f1b6da"
            ],
            [
             0.4,
             "#fde0ef"
            ],
            [
             0.5,
             "#f7f7f7"
            ],
            [
             0.6,
             "#e6f5d0"
            ],
            [
             0.7,
             "#b8e186"
            ],
            [
             0.8,
             "#7fbc41"
            ],
            [
             0.9,
             "#4d9221"
            ],
            [
             1,
             "#276419"
            ]
           ],
           "sequential": [
            [
             0,
             "#0d0887"
            ],
            [
             0.1111111111111111,
             "#46039f"
            ],
            [
             0.2222222222222222,
             "#7201a8"
            ],
            [
             0.3333333333333333,
             "#9c179e"
            ],
            [
             0.4444444444444444,
             "#bd3786"
            ],
            [
             0.5555555555555556,
             "#d8576b"
            ],
            [
             0.6666666666666666,
             "#ed7953"
            ],
            [
             0.7777777777777778,
             "#fb9f3a"
            ],
            [
             0.8888888888888888,
             "#fdca26"
            ],
            [
             1,
             "#f0f921"
            ]
           ],
           "sequentialminus": [
            [
             0,
             "#0d0887"
            ],
            [
             0.1111111111111111,
             "#46039f"
            ],
            [
             0.2222222222222222,
             "#7201a8"
            ],
            [
             0.3333333333333333,
             "#9c179e"
            ],
            [
             0.4444444444444444,
             "#bd3786"
            ],
            [
             0.5555555555555556,
             "#d8576b"
            ],
            [
             0.6666666666666666,
             "#ed7953"
            ],
            [
             0.7777777777777778,
             "#fb9f3a"
            ],
            [
             0.8888888888888888,
             "#fdca26"
            ],
            [
             1,
             "#f0f921"
            ]
           ]
          },
          "colorway": [
           "#636efa",
           "#EF553B",
           "#00cc96",
           "#ab63fa",
           "#FFA15A",
           "#19d3f3",
           "#FF6692",
           "#B6E880",
           "#FF97FF",
           "#FECB52"
          ],
          "font": {
           "color": "#2a3f5f"
          },
          "geo": {
           "bgcolor": "white",
           "lakecolor": "white",
           "landcolor": "#E5ECF6",
           "showlakes": true,
           "showland": true,
           "subunitcolor": "white"
          },
          "hoverlabel": {
           "align": "left"
          },
          "hovermode": "closest",
          "mapbox": {
           "style": "light"
          },
          "paper_bgcolor": "white",
          "plot_bgcolor": "#E5ECF6",
          "polar": {
           "angularaxis": {
            "gridcolor": "white",
            "linecolor": "white",
            "ticks": ""
           },
           "bgcolor": "#E5ECF6",
           "radialaxis": {
            "gridcolor": "white",
            "linecolor": "white",
            "ticks": ""
           }
          },
          "scene": {
           "xaxis": {
            "backgroundcolor": "#E5ECF6",
            "gridcolor": "white",
            "gridwidth": 2,
            "linecolor": "white",
            "showbackground": true,
            "ticks": "",
            "zerolinecolor": "white"
           },
           "yaxis": {
            "backgroundcolor": "#E5ECF6",
            "gridcolor": "white",
            "gridwidth": 2,
            "linecolor": "white",
            "showbackground": true,
            "ticks": "",
            "zerolinecolor": "white"
           },
           "zaxis": {
            "backgroundcolor": "#E5ECF6",
            "gridcolor": "white",
            "gridwidth": 2,
            "linecolor": "white",
            "showbackground": true,
            "ticks": "",
            "zerolinecolor": "white"
           }
          },
          "shapedefaults": {
           "line": {
            "color": "#2a3f5f"
           }
          },
          "ternary": {
           "aaxis": {
            "gridcolor": "white",
            "linecolor": "white",
            "ticks": ""
           },
           "baxis": {
            "gridcolor": "white",
            "linecolor": "white",
            "ticks": ""
           },
           "bgcolor": "#E5ECF6",
           "caxis": {
            "gridcolor": "white",
            "linecolor": "white",
            "ticks": ""
           }
          },
          "title": {
           "x": 0.05
          },
          "xaxis": {
           "automargin": true,
           "gridcolor": "white",
           "linecolor": "white",
           "ticks": "",
           "title": {
            "standoff": 15
           },
           "zerolinecolor": "white",
           "zerolinewidth": 2
          },
          "yaxis": {
           "automargin": true,
           "gridcolor": "white",
           "linecolor": "white",
           "ticks": "",
           "title": {
            "standoff": 15
           },
           "zerolinecolor": "white",
           "zerolinewidth": 2
          }
         }
        },
        "xaxis": {
         "anchor": "y",
         "domain": [
          0,
          1
         ],
         "title": {
          "text": "date"
         }
        },
        "yaxis": {
         "anchor": "x",
         "domain": [
          0,
          1
         ],
         "tickmode": "array",
         "ticktext": [
          "00:00",
          "00:30",
          "01:00",
          "01:30",
          "02:00",
          "02:30",
          "03:00",
          "03:30",
          "04:00"
         ],
         "tickvals": [
          0,
          1800000000000,
          3600000000000,
          5400000000000,
          7200000000000,
          9000000000000,
          10800000000000,
          12600000000000,
          14400000000000
         ],
         "title": {
          "text": "elapsed_time"
         }
        }
       }
      }
     },
     "metadata": {},
     "output_type": "display_data"
    }
   ],
   "source": [
    "fig = px.bar(df_pandas, x='date', y='elapsed_time', color=\"focus_area\", hover_name=\"focus_area\", hover_data={\"date\": True, \"focus_area\": False, \"Time\": True, \"elapsed_time\": False, \"project\": True})\n",
    "fig.update_layout(yaxis={\n",
    "        \"tickmode\": \"array\",\n",
    "        \"tickvals\": tick_ints,\n",
    "        \"ticktext\": tick_strings\n",
    "})\n",
    "\n",
    "\n",
    "fig.show()"
   ]
  },
  {
   "cell_type": "code",
   "execution_count": null,
   "metadata": {},
   "outputs": [
    {
     "data": {
      "text/html": [
       "<div><style>\n",
       ".dataframe > thead > tr,\n",
       ".dataframe > tbody > tr {\n",
       "  text-align: right;\n",
       "  white-space: pre-wrap;\n",
       "}\n",
       "</style>\n",
       "<small>shape: (10, 4)</small><table border=\"1\" class=\"dataframe\"><thead><tr><th>focus_area</th><th>project</th><th>date</th><th>elapsed_time</th></tr><tr><td>str</td><td>str</td><td>str</td><td>duration[ms]</td></tr></thead><tbody><tr><td>&quot;phd&quot;</td><td>&quot;SERC&quot;</td><td>&quot;2024-12-13&quot;</td><td>32m</td></tr><tr><td>&quot;personal_code&quot;</td><td>&quot;slowcial&quot;</td><td>&quot;2024-12-18&quot;</td><td>1h 47m</td></tr><tr><td>&quot;career&quot;</td><td>&quot;summer24 job application&quot;</td><td>&quot;2024-12-13&quot;</td><td>3h 39m</td></tr><tr><td>&quot;personal_code&quot;</td><td>&quot;slowcial&quot;</td><td>&quot;2024-12-07&quot;</td><td>1h 55m</td></tr><tr><td>&quot;personal_code&quot;</td><td>&quot;time_logger&quot;</td><td>&quot;2024-12-11&quot;</td><td>1h 49m</td></tr><tr><td>&quot;career&quot;</td><td>&quot;summer24 job application&quot;</td><td>&quot;2024-12-20&quot;</td><td>2h 37m</td></tr><tr><td>&quot;foundations&quot;</td><td>&quot;probabilistic graphical models&quot;</td><td>&quot;2024-12-18&quot;</td><td>1h 30m</td></tr><tr><td>&quot;personal_code&quot;</td><td>&quot;time_logger&quot;</td><td>&quot;2024-12-05&quot;</td><td>2h 19m</td></tr><tr><td>&quot;career&quot;</td><td>&quot;building africa&#x27;s cities summi…</td><td>&quot;2024-12-06&quot;</td><td>1h 32m</td></tr><tr><td>&quot;admin&quot;</td><td>&quot;cee243&quot;</td><td>&quot;2024-12-14&quot;</td><td>3h 17m</td></tr></tbody></table></div>"
      ],
      "text/plain": [
       "shape: (10, 4)\n",
       "┌───────────────┬─────────────────────────────────┬────────────┬──────────────┐\n",
       "│ focus_area    ┆ project                         ┆ date       ┆ elapsed_time │\n",
       "│ ---           ┆ ---                             ┆ ---        ┆ ---          │\n",
       "│ str           ┆ str                             ┆ str        ┆ duration[ms] │\n",
       "╞═══════════════╪═════════════════════════════════╪════════════╪══════════════╡\n",
       "│ phd           ┆ SERC                            ┆ 2024-12-13 ┆ 32m          │\n",
       "│ personal_code ┆ slowcial                        ┆ 2024-12-18 ┆ 1h 47m       │\n",
       "│ career        ┆ summer24 job application        ┆ 2024-12-13 ┆ 3h 39m       │\n",
       "│ personal_code ┆ slowcial                        ┆ 2024-12-07 ┆ 1h 55m       │\n",
       "│ personal_code ┆ time_logger                     ┆ 2024-12-11 ┆ 1h 49m       │\n",
       "│ career        ┆ summer24 job application        ┆ 2024-12-20 ┆ 2h 37m       │\n",
       "│ foundations   ┆ probabilistic graphical models  ┆ 2024-12-18 ┆ 1h 30m       │\n",
       "│ personal_code ┆ time_logger                     ┆ 2024-12-05 ┆ 2h 19m       │\n",
       "│ career        ┆ building africa's cities summi… ┆ 2024-12-06 ┆ 1h 32m       │\n",
       "│ admin         ┆ cee243                          ┆ 2024-12-14 ┆ 3h 17m       │\n",
       "└───────────────┴─────────────────────────────────┴────────────┴──────────────┘"
      ]
     },
     "execution_count": 106,
     "metadata": {},
     "output_type": "execute_result"
    }
   ],
   "source": [
    "df_agg2 = aggregate_focus_project_date(df)\n"
   ]
  },
  {
   "cell_type": "markdown",
   "metadata": {},
   "source": []
  }
 ],
 "metadata": {
  "kernelspec": {
   "display_name": ".venv",
   "language": "python",
   "name": "python3"
  },
  "language_info": {
   "codemirror_mode": {
    "name": "ipython",
    "version": 3
   },
   "file_extension": ".py",
   "mimetype": "text/x-python",
   "name": "python",
   "nbconvert_exporter": "python",
   "pygments_lexer": "ipython3",
   "version": "3.13.0"
  }
 },
 "nbformat": 4,
 "nbformat_minor": 2
}

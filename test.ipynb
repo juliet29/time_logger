{
 "cells": [
  {
   "cell_type": "code",
   "execution_count": 1,
   "metadata": {},
   "outputs": [],
   "source": [
    "%load_ext autoreload\n",
    "%autoreload 2"
   ]
  },
  {
   "cell_type": "code",
   "execution_count": 2,
   "metadata": {},
   "outputs": [],
   "source": [
    "from pathlib import Path\n",
    "import sys\n",
    "sys.path.append(str(Path.cwd() / \"src\"))"
   ]
  },
  {
   "cell_type": "code",
   "execution_count": 4,
   "metadata": {},
   "outputs": [],
   "source": [
    "import datetime\n",
    "\n",
    "import matplotlib.pyplot as plt\n",
    "import numpy as np\n",
    "import polars as pl\n",
    "from copy import deepcopy\n",
    "import seaborn.objects as so\n",
    "\n",
    "\n",
    "\n",
    "from variables import get_db_path\n",
    "from db_commands.connect import connect_to_real_db \n",
    "from db_commands.read import read_all_entries, aggregate_focus_project_date\n"
   ]
  },
  {
   "cell_type": "code",
   "execution_count": 4,
   "metadata": {},
   "outputs": [
    {
     "data": {
      "text/html": [
       "<div><style>\n",
       ".dataframe > thead > tr,\n",
       ".dataframe > tbody > tr {\n",
       "  text-align: right;\n",
       "  white-space: pre-wrap;\n",
       "}\n",
       "</style>\n",
       "<small>shape: (10, 4)</small><table border=\"1\" class=\"dataframe\"><thead><tr><th>focus_area</th><th>project</th><th>date</th><th>minutes</th></tr><tr><td>str</td><td>str</td><td>str</td><td>duration[ms]</td></tr></thead><tbody><tr><td>&quot;personal_code&quot;</td><td>&quot;time_logger&quot;</td><td>&quot;2024-12-05&quot;</td><td>2h 19m</td></tr><tr><td>&quot;personal_code&quot;</td><td>&quot;slowcial&quot;</td><td>&quot;2024-12-18&quot;</td><td>1h 47m</td></tr><tr><td>&quot;admin&quot;</td><td>&quot;cee243&quot;</td><td>&quot;2024-12-14&quot;</td><td>3h 17m</td></tr><tr><td>&quot;phd&quot;</td><td>&quot;SERC&quot;</td><td>&quot;2024-12-13&quot;</td><td>32m</td></tr><tr><td>&quot;career&quot;</td><td>&quot;building africa&#x27;s cities summi…</td><td>&quot;2024-12-06&quot;</td><td>1h 32m</td></tr><tr><td>&quot;personal_code&quot;</td><td>&quot;time_logger&quot;</td><td>&quot;2024-12-11&quot;</td><td>1h 49m</td></tr><tr><td>&quot;career&quot;</td><td>&quot;summer24 job application&quot;</td><td>&quot;2024-12-13&quot;</td><td>3h 39m</td></tr><tr><td>&quot;career&quot;</td><td>&quot;summer24 job application&quot;</td><td>&quot;2024-12-20&quot;</td><td>2h 37m</td></tr><tr><td>&quot;foundations&quot;</td><td>&quot;probabilistic graphical models&quot;</td><td>&quot;2024-12-18&quot;</td><td>1h 30m</td></tr><tr><td>&quot;personal_code&quot;</td><td>&quot;slowcial&quot;</td><td>&quot;2024-12-07&quot;</td><td>1h 55m</td></tr></tbody></table></div>"
      ],
      "text/plain": [
       "shape: (10, 4)\n",
       "┌───────────────┬─────────────────────────────────┬────────────┬──────────────┐\n",
       "│ focus_area    ┆ project                         ┆ date       ┆ minutes      │\n",
       "│ ---           ┆ ---                             ┆ ---        ┆ ---          │\n",
       "│ str           ┆ str                             ┆ str        ┆ duration[ms] │\n",
       "╞═══════════════╪═════════════════════════════════╪════════════╪══════════════╡\n",
       "│ personal_code ┆ time_logger                     ┆ 2024-12-05 ┆ 2h 19m       │\n",
       "│ personal_code ┆ slowcial                        ┆ 2024-12-18 ┆ 1h 47m       │\n",
       "│ admin         ┆ cee243                          ┆ 2024-12-14 ┆ 3h 17m       │\n",
       "│ phd           ┆ SERC                            ┆ 2024-12-13 ┆ 32m          │\n",
       "│ career        ┆ building africa's cities summi… ┆ 2024-12-06 ┆ 1h 32m       │\n",
       "│ personal_code ┆ time_logger                     ┆ 2024-12-11 ┆ 1h 49m       │\n",
       "│ career        ┆ summer24 job application        ┆ 2024-12-13 ┆ 3h 39m       │\n",
       "│ career        ┆ summer24 job application        ┆ 2024-12-20 ┆ 2h 37m       │\n",
       "│ foundations   ┆ probabilistic graphical models  ┆ 2024-12-18 ┆ 1h 30m       │\n",
       "│ personal_code ┆ slowcial                        ┆ 2024-12-07 ┆ 1h 55m       │\n",
       "└───────────────┴─────────────────────────────────┴────────────┴──────────────┘"
      ]
     },
     "execution_count": 4,
     "metadata": {},
     "output_type": "execute_result"
    }
   ],
   "source": [
    "connection = connect_to_real_db(get_db_path())\n",
    "df = read_all_entries(connection)\n",
    "df_agg = aggregate_focus_project_date(df)\n",
    "df_agg"
   ]
  },
  {
   "cell_type": "code",
   "execution_count": 5,
   "metadata": {},
   "outputs": [
    {
     "data": {
      "text/html": [
       "<div><style>\n",
       ".dataframe > thead > tr,\n",
       ".dataframe > tbody > tr {\n",
       "  text-align: right;\n",
       "  white-space: pre-wrap;\n",
       "}\n",
       "</style>\n",
       "<small>shape: (10, 7)</small><table border=\"1\" class=\"dataframe\"><thead><tr><th>project</th><th>date</th><th>personal_code</th><th>admin</th><th>phd</th><th>career</th><th>foundations</th></tr><tr><td>str</td><td>str</td><td>duration[ms]</td><td>duration[ms]</td><td>duration[ms]</td><td>duration[ms]</td><td>duration[ms]</td></tr></thead><tbody><tr><td>&quot;time_logger&quot;</td><td>&quot;2024-12-05&quot;</td><td>2h 19m</td><td>null</td><td>null</td><td>null</td><td>null</td></tr><tr><td>&quot;slowcial&quot;</td><td>&quot;2024-12-18&quot;</td><td>1h 47m</td><td>null</td><td>null</td><td>null</td><td>null</td></tr><tr><td>&quot;cee243&quot;</td><td>&quot;2024-12-14&quot;</td><td>null</td><td>3h 17m</td><td>null</td><td>null</td><td>null</td></tr><tr><td>&quot;SERC&quot;</td><td>&quot;2024-12-13&quot;</td><td>null</td><td>null</td><td>32m</td><td>null</td><td>null</td></tr><tr><td>&quot;building africa&#x27;s cities summi…</td><td>&quot;2024-12-06&quot;</td><td>null</td><td>null</td><td>null</td><td>1h 32m</td><td>null</td></tr><tr><td>&quot;time_logger&quot;</td><td>&quot;2024-12-11&quot;</td><td>1h 49m</td><td>null</td><td>null</td><td>null</td><td>null</td></tr><tr><td>&quot;summer24 job application&quot;</td><td>&quot;2024-12-13&quot;</td><td>null</td><td>null</td><td>null</td><td>3h 39m</td><td>null</td></tr><tr><td>&quot;summer24 job application&quot;</td><td>&quot;2024-12-20&quot;</td><td>null</td><td>null</td><td>null</td><td>2h 37m</td><td>null</td></tr><tr><td>&quot;probabilistic graphical models&quot;</td><td>&quot;2024-12-18&quot;</td><td>null</td><td>null</td><td>null</td><td>null</td><td>1h 30m</td></tr><tr><td>&quot;slowcial&quot;</td><td>&quot;2024-12-07&quot;</td><td>1h 55m</td><td>null</td><td>null</td><td>null</td><td>null</td></tr></tbody></table></div>"
      ],
      "text/plain": [
       "shape: (10, 7)\n",
       "┌──────────────┬────────────┬──────────────┬─────────────┬─────────────┬─────────────┬─────────────┐\n",
       "│ project      ┆ date       ┆ personal_cod ┆ admin       ┆ phd         ┆ career      ┆ foundations │\n",
       "│ ---          ┆ ---        ┆ e            ┆ ---         ┆ ---         ┆ ---         ┆ ---         │\n",
       "│ str          ┆ str        ┆ ---          ┆ duration[ms ┆ duration[ms ┆ duration[ms ┆ duration[ms │\n",
       "│              ┆            ┆ duration[ms] ┆ ]           ┆ ]           ┆ ]           ┆ ]           │\n",
       "╞══════════════╪════════════╪══════════════╪═════════════╪═════════════╪═════════════╪═════════════╡\n",
       "│ time_logger  ┆ 2024-12-05 ┆ 2h 19m       ┆ null        ┆ null        ┆ null        ┆ null        │\n",
       "│ slowcial     ┆ 2024-12-18 ┆ 1h 47m       ┆ null        ┆ null        ┆ null        ┆ null        │\n",
       "│ cee243       ┆ 2024-12-14 ┆ null         ┆ 3h 17m      ┆ null        ┆ null        ┆ null        │\n",
       "│ SERC         ┆ 2024-12-13 ┆ null         ┆ null        ┆ 32m         ┆ null        ┆ null        │\n",
       "│ building     ┆ 2024-12-06 ┆ null         ┆ null        ┆ null        ┆ 1h 32m      ┆ null        │\n",
       "│ africa's     ┆            ┆              ┆             ┆             ┆             ┆             │\n",
       "│ cities       ┆            ┆              ┆             ┆             ┆             ┆             │\n",
       "│ summi…       ┆            ┆              ┆             ┆             ┆             ┆             │\n",
       "│ time_logger  ┆ 2024-12-11 ┆ 1h 49m       ┆ null        ┆ null        ┆ null        ┆ null        │\n",
       "│ summer24 job ┆ 2024-12-13 ┆ null         ┆ null        ┆ null        ┆ 3h 39m      ┆ null        │\n",
       "│ application  ┆            ┆              ┆             ┆             ┆             ┆             │\n",
       "│ summer24 job ┆ 2024-12-20 ┆ null         ┆ null        ┆ null        ┆ 2h 37m      ┆ null        │\n",
       "│ application  ┆            ┆              ┆             ┆             ┆             ┆             │\n",
       "│ probabilisti ┆ 2024-12-18 ┆ null         ┆ null        ┆ null        ┆ null        ┆ 1h 30m      │\n",
       "│ c graphical  ┆            ┆              ┆             ┆             ┆             ┆             │\n",
       "│ models       ┆            ┆              ┆             ┆             ┆             ┆             │\n",
       "│ slowcial     ┆ 2024-12-07 ┆ 1h 55m       ┆ null        ┆ null        ┆ null        ┆ null        │\n",
       "└──────────────┴────────────┴──────────────┴─────────────┴─────────────┴─────────────┴─────────────┘"
      ]
     },
     "execution_count": 5,
     "metadata": {},
     "output_type": "execute_result"
    }
   ],
   "source": [
    "df_piv = df_agg.pivot(on=\"focus_area\", values=\"minutes\")\n",
    "df_piv\n"
   ]
  },
  {
   "cell_type": "code",
   "execution_count": 59,
   "metadata": {},
   "outputs": [
    {
     "data": {
      "text/html": [
       "<div>\n",
       "<style scoped>\n",
       "    .dataframe tbody tr th:only-of-type {\n",
       "        vertical-align: middle;\n",
       "    }\n",
       "\n",
       "    .dataframe tbody tr th {\n",
       "        vertical-align: top;\n",
       "    }\n",
       "\n",
       "    .dataframe thead th {\n",
       "        text-align: right;\n",
       "    }\n",
       "</style>\n",
       "<table border=\"1\" class=\"dataframe\">\n",
       "  <thead>\n",
       "    <tr style=\"text-align: right;\">\n",
       "      <th></th>\n",
       "      <th>personal_code</th>\n",
       "      <th>admin</th>\n",
       "      <th>phd</th>\n",
       "      <th>career</th>\n",
       "      <th>foundations</th>\n",
       "    </tr>\n",
       "  </thead>\n",
       "  <tbody>\n",
       "    <tr>\n",
       "      <th>0</th>\n",
       "      <td>0 days 02:19:00</td>\n",
       "      <td>NaT</td>\n",
       "      <td>NaT</td>\n",
       "      <td>NaT</td>\n",
       "      <td>NaT</td>\n",
       "    </tr>\n",
       "    <tr>\n",
       "      <th>1</th>\n",
       "      <td>0 days 01:47:00</td>\n",
       "      <td>NaT</td>\n",
       "      <td>NaT</td>\n",
       "      <td>NaT</td>\n",
       "      <td>NaT</td>\n",
       "    </tr>\n",
       "    <tr>\n",
       "      <th>2</th>\n",
       "      <td>NaT</td>\n",
       "      <td>0 days 03:17:00</td>\n",
       "      <td>NaT</td>\n",
       "      <td>NaT</td>\n",
       "      <td>NaT</td>\n",
       "    </tr>\n",
       "    <tr>\n",
       "      <th>3</th>\n",
       "      <td>NaT</td>\n",
       "      <td>NaT</td>\n",
       "      <td>0 days 00:32:00</td>\n",
       "      <td>NaT</td>\n",
       "      <td>NaT</td>\n",
       "    </tr>\n",
       "    <tr>\n",
       "      <th>4</th>\n",
       "      <td>NaT</td>\n",
       "      <td>NaT</td>\n",
       "      <td>NaT</td>\n",
       "      <td>0 days 01:32:00</td>\n",
       "      <td>NaT</td>\n",
       "    </tr>\n",
       "    <tr>\n",
       "      <th>5</th>\n",
       "      <td>0 days 01:49:00</td>\n",
       "      <td>NaT</td>\n",
       "      <td>NaT</td>\n",
       "      <td>NaT</td>\n",
       "      <td>NaT</td>\n",
       "    </tr>\n",
       "    <tr>\n",
       "      <th>6</th>\n",
       "      <td>NaT</td>\n",
       "      <td>NaT</td>\n",
       "      <td>NaT</td>\n",
       "      <td>0 days 03:39:00</td>\n",
       "      <td>NaT</td>\n",
       "    </tr>\n",
       "    <tr>\n",
       "      <th>7</th>\n",
       "      <td>NaT</td>\n",
       "      <td>NaT</td>\n",
       "      <td>NaT</td>\n",
       "      <td>0 days 02:37:00</td>\n",
       "      <td>NaT</td>\n",
       "    </tr>\n",
       "    <tr>\n",
       "      <th>8</th>\n",
       "      <td>NaT</td>\n",
       "      <td>NaT</td>\n",
       "      <td>NaT</td>\n",
       "      <td>NaT</td>\n",
       "      <td>0 days 01:30:00</td>\n",
       "    </tr>\n",
       "    <tr>\n",
       "      <th>9</th>\n",
       "      <td>0 days 01:55:00</td>\n",
       "      <td>NaT</td>\n",
       "      <td>NaT</td>\n",
       "      <td>NaT</td>\n",
       "      <td>NaT</td>\n",
       "    </tr>\n",
       "  </tbody>\n",
       "</table>\n",
       "</div>"
      ],
      "text/plain": [
       "    personal_code           admin             phd          career  \\\n",
       "0 0 days 02:19:00             NaT             NaT             NaT   \n",
       "1 0 days 01:47:00             NaT             NaT             NaT   \n",
       "2             NaT 0 days 03:17:00             NaT             NaT   \n",
       "3             NaT             NaT 0 days 00:32:00             NaT   \n",
       "4             NaT             NaT             NaT 0 days 01:32:00   \n",
       "5 0 days 01:49:00             NaT             NaT             NaT   \n",
       "6             NaT             NaT             NaT 0 days 03:39:00   \n",
       "7             NaT             NaT             NaT 0 days 02:37:00   \n",
       "8             NaT             NaT             NaT             NaT   \n",
       "9 0 days 01:55:00             NaT             NaT             NaT   \n",
       "\n",
       "      foundations  \n",
       "0             NaT  \n",
       "1             NaT  \n",
       "2             NaT  \n",
       "3             NaT  \n",
       "4             NaT  \n",
       "5             NaT  \n",
       "6             NaT  \n",
       "7             NaT  \n",
       "8 0 days 01:30:00  \n",
       "9             NaT  "
      ]
     },
     "execution_count": 59,
     "metadata": {},
     "output_type": "execute_result"
    }
   ],
   "source": [
    "durations = df_piv.select(pl.selectors.duration()).to_pandas()\n",
    "durations"
   ]
  },
  {
   "cell_type": "code",
   "execution_count": 74,
   "metadata": {},
   "outputs": [
    {
     "data": {
      "text/plain": [
       "False"
      ]
     },
     "execution_count": 74,
     "metadata": {},
     "output_type": "execute_result"
    }
   ],
   "source": [
    "hasattr(durations[\"personal_code\"][2], \"components\")"
   ]
  },
  {
   "cell_type": "code",
   "execution_count": 76,
   "metadata": {},
   "outputs": [
    {
     "data": {
      "text/plain": [
       "datetime.timedelta(0)"
      ]
     },
     "execution_count": 76,
     "metadata": {},
     "output_type": "execute_result"
    }
   ],
   "source": []
  },
  {
   "cell_type": "code",
   "execution_count": 87,
   "metadata": {},
   "outputs": [],
   "source": [
    "def get_valid_durations(time_data):\n",
    "    return [i.to_pytimedelta().seconds if hasattr(i, \"components\") else datetime.timedelta(0).seconds for i in time_data]"
   ]
  },
  {
   "cell_type": "code",
   "execution_count": 88,
   "metadata": {},
   "outputs": [
    {
     "name": "stdout",
     "output_type": "stream",
     "text": [
      "[8340, 6420, 0, 0, 0, 6540, 0, 0, 0, 6900]\n",
      "[0, 0, 11820, 0, 0, 0, 0, 0, 0, 0]\n",
      "[0, 0, 0, 1920, 0, 0, 0, 0, 0, 0]\n",
      "[0, 0, 0, 0, 5520, 0, 13140, 9420, 0, 0]\n",
      "[0, 0, 0, 0, 0, 0, 0, 0, 5400, 0]\n"
     ]
    }
   ],
   "source": [
    "for name, time_data in durations.items():\n",
    "    vals = get_valid_durations(time_data)\n",
    "    print(vals)\n",
    "    # print([i.seconds for i in vals])\n",
    "    # print([i.to_pytimedelta() if hasattr(i, \"components\") else datetime.timedelta(0) for i in time_data ])"
   ]
  },
  {
   "cell_type": "code",
   "execution_count": null,
   "metadata": {},
   "outputs": [],
   "source": []
  },
  {
   "cell_type": "code",
   "execution_count": 89,
   "metadata": {},
   "outputs": [
    {
     "ename": "ValueError",
     "evalue": "shape mismatch: objects cannot be broadcast to a single shape.  Mismatch is between arg 0 with shape (10,) and arg 3 with shape (20,).",
     "output_type": "error",
     "traceback": [
      "\u001b[0;31m---------------------------------------------------------------------------\u001b[0m",
      "\u001b[0;31mValueError\u001b[0m                                Traceback (most recent call last)",
      "Cell \u001b[0;32mIn[89], line 10\u001b[0m\n\u001b[1;32m      8\u001b[0m \u001b[38;5;28;01mfor\u001b[39;00m focus_area, time_data \u001b[38;5;129;01min\u001b[39;00m durations\u001b[38;5;241m.\u001b[39mitems():\n\u001b[1;32m      9\u001b[0m     times \u001b[38;5;241m=\u001b[39m get_valid_durations(time_data)\n\u001b[0;32m---> 10\u001b[0m     p \u001b[38;5;241m=\u001b[39m \u001b[43max\u001b[49m\u001b[38;5;241;43m.\u001b[39;49m\u001b[43mbar\u001b[49m\u001b[43m(\u001b[49m\u001b[43mdates\u001b[49m\u001b[43m,\u001b[49m\u001b[43m \u001b[49m\u001b[43mtimes\u001b[49m\u001b[43m,\u001b[49m\u001b[43m \u001b[49m\u001b[43mwidth\u001b[49m\u001b[43m,\u001b[49m\u001b[43m \u001b[49m\u001b[43mlabel\u001b[49m\u001b[38;5;241;43m=\u001b[39;49m\u001b[43mfocus_area\u001b[49m\u001b[43m,\u001b[49m\u001b[43m \u001b[49m\u001b[43mbottom\u001b[49m\u001b[38;5;241;43m=\u001b[39;49m\u001b[43mbottom\u001b[49m\u001b[43m)\u001b[49m\n\u001b[1;32m     11\u001b[0m     bottom\u001b[38;5;241m+\u001b[39m\u001b[38;5;241m=\u001b[39mtimes\n\u001b[1;32m     13\u001b[0m \u001b[38;5;66;03m# for boolean, weight_count in weight_counts.items():\u001b[39;00m\n\u001b[1;32m     14\u001b[0m \u001b[38;5;66;03m#     p = ax.bar(species, weight_count, width, label=boolean, bottom=bottom)\u001b[39;00m\n\u001b[1;32m     15\u001b[0m \u001b[38;5;66;03m#     bottom += weight_count\u001b[39;00m\n",
      "File \u001b[0;32m~/_Projects24/time_logger/.venv/lib/python3.13/site-packages/matplotlib/__init__.py:1476\u001b[0m, in \u001b[0;36m_preprocess_data.<locals>.inner\u001b[0;34m(ax, data, *args, **kwargs)\u001b[0m\n\u001b[1;32m   1473\u001b[0m \u001b[38;5;129m@functools\u001b[39m\u001b[38;5;241m.\u001b[39mwraps(func)\n\u001b[1;32m   1474\u001b[0m \u001b[38;5;28;01mdef\u001b[39;00m \u001b[38;5;21minner\u001b[39m(ax, \u001b[38;5;241m*\u001b[39margs, data\u001b[38;5;241m=\u001b[39m\u001b[38;5;28;01mNone\u001b[39;00m, \u001b[38;5;241m*\u001b[39m\u001b[38;5;241m*\u001b[39mkwargs):\n\u001b[1;32m   1475\u001b[0m     \u001b[38;5;28;01mif\u001b[39;00m data \u001b[38;5;129;01mis\u001b[39;00m \u001b[38;5;28;01mNone\u001b[39;00m:\n\u001b[0;32m-> 1476\u001b[0m         \u001b[38;5;28;01mreturn\u001b[39;00m \u001b[43mfunc\u001b[49m\u001b[43m(\u001b[49m\n\u001b[1;32m   1477\u001b[0m \u001b[43m            \u001b[49m\u001b[43max\u001b[49m\u001b[43m,\u001b[49m\n\u001b[1;32m   1478\u001b[0m \u001b[43m            \u001b[49m\u001b[38;5;241;43m*\u001b[39;49m\u001b[38;5;28;43mmap\u001b[39;49m\u001b[43m(\u001b[49m\u001b[43msanitize_sequence\u001b[49m\u001b[43m,\u001b[49m\u001b[43m \u001b[49m\u001b[43margs\u001b[49m\u001b[43m)\u001b[49m\u001b[43m,\u001b[49m\n\u001b[1;32m   1479\u001b[0m \u001b[43m            \u001b[49m\u001b[38;5;241;43m*\u001b[39;49m\u001b[38;5;241;43m*\u001b[39;49m\u001b[43m{\u001b[49m\u001b[43mk\u001b[49m\u001b[43m:\u001b[49m\u001b[43m \u001b[49m\u001b[43msanitize_sequence\u001b[49m\u001b[43m(\u001b[49m\u001b[43mv\u001b[49m\u001b[43m)\u001b[49m\u001b[43m \u001b[49m\u001b[38;5;28;43;01mfor\u001b[39;49;00m\u001b[43m \u001b[49m\u001b[43mk\u001b[49m\u001b[43m,\u001b[49m\u001b[43m \u001b[49m\u001b[43mv\u001b[49m\u001b[43m \u001b[49m\u001b[38;5;129;43;01min\u001b[39;49;00m\u001b[43m \u001b[49m\u001b[43mkwargs\u001b[49m\u001b[38;5;241;43m.\u001b[39;49m\u001b[43mitems\u001b[49m\u001b[43m(\u001b[49m\u001b[43m)\u001b[49m\u001b[43m}\u001b[49m\u001b[43m)\u001b[49m\n\u001b[1;32m   1481\u001b[0m     bound \u001b[38;5;241m=\u001b[39m new_sig\u001b[38;5;241m.\u001b[39mbind(ax, \u001b[38;5;241m*\u001b[39margs, \u001b[38;5;241m*\u001b[39m\u001b[38;5;241m*\u001b[39mkwargs)\n\u001b[1;32m   1482\u001b[0m     auto_label \u001b[38;5;241m=\u001b[39m (bound\u001b[38;5;241m.\u001b[39marguments\u001b[38;5;241m.\u001b[39mget(label_namer)\n\u001b[1;32m   1483\u001b[0m                   \u001b[38;5;129;01mor\u001b[39;00m bound\u001b[38;5;241m.\u001b[39mkwargs\u001b[38;5;241m.\u001b[39mget(label_namer))\n",
      "File \u001b[0;32m~/_Projects24/time_logger/.venv/lib/python3.13/site-packages/matplotlib/axes/_axes.py:2520\u001b[0m, in \u001b[0;36mAxes.bar\u001b[0;34m(self, x, height, width, bottom, align, **kwargs)\u001b[0m\n\u001b[1;32m   2517\u001b[0m     \u001b[38;5;28;01mif\u001b[39;00m yerr \u001b[38;5;129;01mis\u001b[39;00m \u001b[38;5;129;01mnot\u001b[39;00m \u001b[38;5;28;01mNone\u001b[39;00m:\n\u001b[1;32m   2518\u001b[0m         yerr \u001b[38;5;241m=\u001b[39m \u001b[38;5;28mself\u001b[39m\u001b[38;5;241m.\u001b[39m_convert_dx(yerr, y0, y, \u001b[38;5;28mself\u001b[39m\u001b[38;5;241m.\u001b[39mconvert_yunits)\n\u001b[0;32m-> 2520\u001b[0m x, height, width, y, linewidth, hatch \u001b[38;5;241m=\u001b[39m \u001b[43mnp\u001b[49m\u001b[38;5;241;43m.\u001b[39;49m\u001b[43mbroadcast_arrays\u001b[49m\u001b[43m(\u001b[49m\n\u001b[1;32m   2521\u001b[0m \u001b[43m    \u001b[49m\u001b[38;5;66;43;03m# Make args iterable too.\u001b[39;49;00m\n\u001b[1;32m   2522\u001b[0m \u001b[43m    \u001b[49m\u001b[43mnp\u001b[49m\u001b[38;5;241;43m.\u001b[39;49m\u001b[43matleast_1d\u001b[49m\u001b[43m(\u001b[49m\u001b[43mx\u001b[49m\u001b[43m)\u001b[49m\u001b[43m,\u001b[49m\u001b[43m \u001b[49m\u001b[43mheight\u001b[49m\u001b[43m,\u001b[49m\u001b[43m \u001b[49m\u001b[43mwidth\u001b[49m\u001b[43m,\u001b[49m\u001b[43m \u001b[49m\u001b[43my\u001b[49m\u001b[43m,\u001b[49m\u001b[43m \u001b[49m\u001b[43mlinewidth\u001b[49m\u001b[43m,\u001b[49m\u001b[43m \u001b[49m\u001b[43mhatch\u001b[49m\u001b[43m)\u001b[49m\n\u001b[1;32m   2524\u001b[0m \u001b[38;5;66;03m# Now that units have been converted, set the tick locations.\u001b[39;00m\n\u001b[1;32m   2525\u001b[0m \u001b[38;5;28;01mif\u001b[39;00m orientation \u001b[38;5;241m==\u001b[39m \u001b[38;5;124m'\u001b[39m\u001b[38;5;124mvertical\u001b[39m\u001b[38;5;124m'\u001b[39m:\n",
      "File \u001b[0;32m~/_Projects24/time_logger/.venv/lib/python3.13/site-packages/numpy/lib/_stride_tricks_impl.py:551\u001b[0m, in \u001b[0;36mbroadcast_arrays\u001b[0;34m(subok, *args)\u001b[0m\n\u001b[1;32m    544\u001b[0m \u001b[38;5;66;03m# nditer is not used here to avoid the limit of 32 arrays.\u001b[39;00m\n\u001b[1;32m    545\u001b[0m \u001b[38;5;66;03m# Otherwise, something like the following one-liner would suffice:\u001b[39;00m\n\u001b[1;32m    546\u001b[0m \u001b[38;5;66;03m# return np.nditer(args, flags=['multi_index', 'zerosize_ok'],\u001b[39;00m\n\u001b[1;32m    547\u001b[0m \u001b[38;5;66;03m#                  order='C').itviews\u001b[39;00m\n\u001b[1;32m    549\u001b[0m args \u001b[38;5;241m=\u001b[39m \u001b[38;5;28mtuple\u001b[39m(np\u001b[38;5;241m.\u001b[39marray(_m, copy\u001b[38;5;241m=\u001b[39m\u001b[38;5;28;01mNone\u001b[39;00m, subok\u001b[38;5;241m=\u001b[39msubok) \u001b[38;5;28;01mfor\u001b[39;00m _m \u001b[38;5;129;01min\u001b[39;00m args)\n\u001b[0;32m--> 551\u001b[0m shape \u001b[38;5;241m=\u001b[39m \u001b[43m_broadcast_shape\u001b[49m\u001b[43m(\u001b[49m\u001b[38;5;241;43m*\u001b[39;49m\u001b[43margs\u001b[49m\u001b[43m)\u001b[49m\n\u001b[1;32m    553\u001b[0m \u001b[38;5;28;01mif\u001b[39;00m \u001b[38;5;28mall\u001b[39m(array\u001b[38;5;241m.\u001b[39mshape \u001b[38;5;241m==\u001b[39m shape \u001b[38;5;28;01mfor\u001b[39;00m array \u001b[38;5;129;01min\u001b[39;00m args):\n\u001b[1;32m    554\u001b[0m     \u001b[38;5;66;03m# Common case where nothing needs to be broadcasted.\u001b[39;00m\n\u001b[1;32m    555\u001b[0m     \u001b[38;5;28;01mreturn\u001b[39;00m args\n",
      "File \u001b[0;32m~/_Projects24/time_logger/.venv/lib/python3.13/site-packages/numpy/lib/_stride_tricks_impl.py:431\u001b[0m, in \u001b[0;36m_broadcast_shape\u001b[0;34m(*args)\u001b[0m\n\u001b[1;32m    426\u001b[0m \u001b[38;5;250m\u001b[39m\u001b[38;5;124;03m\"\"\"Returns the shape of the arrays that would result from broadcasting the\u001b[39;00m\n\u001b[1;32m    427\u001b[0m \u001b[38;5;124;03msupplied arrays against each other.\u001b[39;00m\n\u001b[1;32m    428\u001b[0m \u001b[38;5;124;03m\"\"\"\u001b[39;00m\n\u001b[1;32m    429\u001b[0m \u001b[38;5;66;03m# use the old-iterator because np.nditer does not handle size 0 arrays\u001b[39;00m\n\u001b[1;32m    430\u001b[0m \u001b[38;5;66;03m# consistently\u001b[39;00m\n\u001b[0;32m--> 431\u001b[0m b \u001b[38;5;241m=\u001b[39m \u001b[43mnp\u001b[49m\u001b[38;5;241;43m.\u001b[39;49m\u001b[43mbroadcast\u001b[49m\u001b[43m(\u001b[49m\u001b[38;5;241;43m*\u001b[39;49m\u001b[43margs\u001b[49m\u001b[43m[\u001b[49m\u001b[43m:\u001b[49m\u001b[38;5;241;43m32\u001b[39;49m\u001b[43m]\u001b[49m\u001b[43m)\u001b[49m\n\u001b[1;32m    432\u001b[0m \u001b[38;5;66;03m# unfortunately, it cannot handle 32 or more arguments directly\u001b[39;00m\n\u001b[1;32m    433\u001b[0m \u001b[38;5;28;01mfor\u001b[39;00m pos \u001b[38;5;129;01min\u001b[39;00m \u001b[38;5;28mrange\u001b[39m(\u001b[38;5;241m32\u001b[39m, \u001b[38;5;28mlen\u001b[39m(args), \u001b[38;5;241m31\u001b[39m):\n\u001b[1;32m    434\u001b[0m     \u001b[38;5;66;03m# ironically, np.broadcast does not properly handle np.broadcast\u001b[39;00m\n\u001b[1;32m    435\u001b[0m     \u001b[38;5;66;03m# objects (it treats them as scalars)\u001b[39;00m\n\u001b[1;32m    436\u001b[0m     \u001b[38;5;66;03m# use broadcasting to avoid allocating the full array\u001b[39;00m\n",
      "\u001b[0;31mValueError\u001b[0m: shape mismatch: objects cannot be broadcast to a single shape.  Mismatch is between arg 0 with shape (10,) and arg 3 with shape (20,)."
     ]
    },
    {
     "data": {
      "image/png": "[encoded data removed]",
      "text/plain": [
       "<Figure size 640x480 with 1 Axes>"
      ]
     },
     "metadata": {},
     "output_type": "display_data"
    }
   ],
   "source": [
    "fig, ax = plt.subplots()\n",
    "bottom = [datetime.timedelta(0).seconds]*10\n",
    "\n",
    "width = 0.5\n",
    "\n",
    "dates = df_piv[\"date\"].to_list()\n",
    "\n",
    "for focus_area, time_data in durations.items():\n",
    "    times = get_valid_durations(time_data)\n",
    "    p = ax.bar(dates, times, width, label=focus_area, bottom=bottom)\n",
    "    bottom+=times\n",
    "\n",
    "# for boolean, weight_count in weight_counts.items():\n",
    "#     p = ax.bar(species, weight_count, width, label=boolean, bottom=bottom)\n",
    "#     bottom += weight_count"
   ]
  },
  {
   "cell_type": "code",
   "execution_count": 7,
   "metadata": {},
   "outputs": [
    {
     "data": {
      "text/html": [
       "<div><style>\n",
       ".dataframe > thead > tr,\n",
       ".dataframe > tbody > tr {\n",
       "  text-align: right;\n",
       "  white-space: pre-wrap;\n",
       "}\n",
       "</style>\n",
       "<small>shape: (10, 4)</small><table border=\"1\" class=\"dataframe\"><thead><tr><th>focus_area</th><th>project</th><th>date</th><th>minutes</th></tr><tr><td>str</td><td>str</td><td>str</td><td>duration[ms]</td></tr></thead><tbody><tr><td>&quot;personal_code&quot;</td><td>&quot;time_logger&quot;</td><td>&quot;2024-12-05&quot;</td><td>2h 19m</td></tr><tr><td>&quot;personal_code&quot;</td><td>&quot;slowcial&quot;</td><td>&quot;2024-12-18&quot;</td><td>1h 47m</td></tr><tr><td>&quot;admin&quot;</td><td>&quot;cee243&quot;</td><td>&quot;2024-12-14&quot;</td><td>3h 17m</td></tr><tr><td>&quot;phd&quot;</td><td>&quot;SERC&quot;</td><td>&quot;2024-12-13&quot;</td><td>32m</td></tr><tr><td>&quot;career&quot;</td><td>&quot;building africa&#x27;s cities summi…</td><td>&quot;2024-12-06&quot;</td><td>1h 32m</td></tr><tr><td>&quot;personal_code&quot;</td><td>&quot;time_logger&quot;</td><td>&quot;2024-12-11&quot;</td><td>1h 49m</td></tr><tr><td>&quot;career&quot;</td><td>&quot;summer24 job application&quot;</td><td>&quot;2024-12-13&quot;</td><td>3h 39m</td></tr><tr><td>&quot;career&quot;</td><td>&quot;summer24 job application&quot;</td><td>&quot;2024-12-20&quot;</td><td>2h 37m</td></tr><tr><td>&quot;foundations&quot;</td><td>&quot;probabilistic graphical models&quot;</td><td>&quot;2024-12-18&quot;</td><td>1h 30m</td></tr><tr><td>&quot;personal_code&quot;</td><td>&quot;slowcial&quot;</td><td>&quot;2024-12-07&quot;</td><td>1h 55m</td></tr></tbody></table></div>"
      ],
      "text/plain": [
       "shape: (10, 4)\n",
       "┌───────────────┬─────────────────────────────────┬────────────┬──────────────┐\n",
       "│ focus_area    ┆ project                         ┆ date       ┆ minutes      │\n",
       "│ ---           ┆ ---                             ┆ ---        ┆ ---          │\n",
       "│ str           ┆ str                             ┆ str        ┆ duration[ms] │\n",
       "╞═══════════════╪═════════════════════════════════╪════════════╪══════════════╡\n",
       "│ personal_code ┆ time_logger                     ┆ 2024-12-05 ┆ 2h 19m       │\n",
       "│ personal_code ┆ slowcial                        ┆ 2024-12-18 ┆ 1h 47m       │\n",
       "│ admin         ┆ cee243                          ┆ 2024-12-14 ┆ 3h 17m       │\n",
       "│ phd           ┆ SERC                            ┆ 2024-12-13 ┆ 32m          │\n",
       "│ career        ┆ building africa's cities summi… ┆ 2024-12-06 ┆ 1h 32m       │\n",
       "│ personal_code ┆ time_logger                     ┆ 2024-12-11 ┆ 1h 49m       │\n",
       "│ career        ┆ summer24 job application        ┆ 2024-12-13 ┆ 3h 39m       │\n",
       "│ career        ┆ summer24 job application        ┆ 2024-12-20 ┆ 2h 37m       │\n",
       "│ foundations   ┆ probabilistic graphical models  ┆ 2024-12-18 ┆ 1h 30m       │\n",
       "│ personal_code ┆ slowcial                        ┆ 2024-12-07 ┆ 1h 55m       │\n",
       "└───────────────┴─────────────────────────────────┴────────────┴──────────────┘"
      ]
     },
     "execution_count": 7,
     "metadata": {},
     "output_type": "execute_result"
    }
   ],
   "source": [
    "df_agg"
   ]
  },
  {
   "cell_type": "code",
   "execution_count": 8,
   "metadata": {},
   "outputs": [],
   "source": [
    "import plotly.express as px\n"
   ]
  },
  {
   "cell_type": "code",
   "execution_count": 13,
   "metadata": {},
   "outputs": [
    {
     "data": {
      "text/plain": [
       "datetime.timedelta"
      ]
     },
     "execution_count": 13,
     "metadata": {},
     "output_type": "execute_result"
    }
   ],
   "source": [
    "pl.Duration.to_python()"
   ]
  },
  {
   "cell_type": "code",
   "execution_count": 18,
   "metadata": {},
   "outputs": [],
   "source": [
    "import datetime"
   ]
  },
  {
   "cell_type": "code",
   "execution_count": 19,
   "metadata": {},
   "outputs": [
    {
     "data": {
      "text/html": [
       "<div><style>\n",
       ".dataframe > thead > tr,\n",
       ".dataframe > tbody > tr {\n",
       "  text-align: right;\n",
       "  white-space: pre-wrap;\n",
       "}\n",
       "</style>\n",
       "<small>shape: (10, 4)</small><table border=\"1\" class=\"dataframe\"><thead><tr><th>focus_area</th><th>project</th><th>date</th><th>minutes</th></tr><tr><td>str</td><td>str</td><td>str</td><td>duration[μs]</td></tr></thead><tbody><tr><td>&quot;personal_code&quot;</td><td>&quot;time_logger&quot;</td><td>&quot;2024-12-05&quot;</td><td>2h 19m</td></tr><tr><td>&quot;personal_code&quot;</td><td>&quot;slowcial&quot;</td><td>&quot;2024-12-18&quot;</td><td>1h 47m</td></tr><tr><td>&quot;admin&quot;</td><td>&quot;cee243&quot;</td><td>&quot;2024-12-14&quot;</td><td>3h 17m</td></tr><tr><td>&quot;phd&quot;</td><td>&quot;SERC&quot;</td><td>&quot;2024-12-13&quot;</td><td>32m</td></tr><tr><td>&quot;career&quot;</td><td>&quot;building africa&#x27;s cities summi…</td><td>&quot;2024-12-06&quot;</td><td>1h 32m</td></tr><tr><td>&quot;personal_code&quot;</td><td>&quot;time_logger&quot;</td><td>&quot;2024-12-11&quot;</td><td>1h 49m</td></tr><tr><td>&quot;career&quot;</td><td>&quot;summer24 job application&quot;</td><td>&quot;2024-12-13&quot;</td><td>3h 39m</td></tr><tr><td>&quot;career&quot;</td><td>&quot;summer24 job application&quot;</td><td>&quot;2024-12-20&quot;</td><td>2h 37m</td></tr><tr><td>&quot;foundations&quot;</td><td>&quot;probabilistic graphical models&quot;</td><td>&quot;2024-12-18&quot;</td><td>1h 30m</td></tr><tr><td>&quot;personal_code&quot;</td><td>&quot;slowcial&quot;</td><td>&quot;2024-12-07&quot;</td><td>1h 55m</td></tr></tbody></table></div>"
      ],
      "text/plain": [
       "shape: (10, 4)\n",
       "┌───────────────┬─────────────────────────────────┬────────────┬──────────────┐\n",
       "│ focus_area    ┆ project                         ┆ date       ┆ minutes      │\n",
       "│ ---           ┆ ---                             ┆ ---        ┆ ---          │\n",
       "│ str           ┆ str                             ┆ str        ┆ duration[μs] │\n",
       "╞═══════════════╪═════════════════════════════════╪════════════╪══════════════╡\n",
       "│ personal_code ┆ time_logger                     ┆ 2024-12-05 ┆ 2h 19m       │\n",
       "│ personal_code ┆ slowcial                        ┆ 2024-12-18 ┆ 1h 47m       │\n",
       "│ admin         ┆ cee243                          ┆ 2024-12-14 ┆ 3h 17m       │\n",
       "│ phd           ┆ SERC                            ┆ 2024-12-13 ┆ 32m          │\n",
       "│ career        ┆ building africa's cities summi… ┆ 2024-12-06 ┆ 1h 32m       │\n",
       "│ personal_code ┆ time_logger                     ┆ 2024-12-11 ┆ 1h 49m       │\n",
       "│ career        ┆ summer24 job application        ┆ 2024-12-13 ┆ 3h 39m       │\n",
       "│ career        ┆ summer24 job application        ┆ 2024-12-20 ┆ 2h 37m       │\n",
       "│ foundations   ┆ probabilistic graphical models  ┆ 2024-12-18 ┆ 1h 30m       │\n",
       "│ personal_code ┆ slowcial                        ┆ 2024-12-07 ┆ 1h 55m       │\n",
       "└───────────────┴─────────────────────────────────┴────────────┴──────────────┘"
      ]
     },
     "execution_count": 19,
     "metadata": {},
     "output_type": "execute_result"
    }
   ],
   "source": [
    "df_plt = df_agg.with_columns(minutes=pl.col(\"minutes\").cast(datetime.timedelta))\n",
    "df_plt"
   ]
  },
  {
   "cell_type": "code",
   "execution_count": 29,
   "metadata": {},
   "outputs": [
    {
     "data": {
      "text/html": [
       "<div>\n",
       "<style scoped>\n",
       "    .dataframe tbody tr th:only-of-type {\n",
       "        vertical-align: middle;\n",
       "    }\n",
       "\n",
       "    .dataframe tbody tr th {\n",
       "        vertical-align: top;\n",
       "    }\n",
       "\n",
       "    .dataframe thead th {\n",
       "        text-align: right;\n",
       "    }\n",
       "</style>\n",
       "<table border=\"1\" class=\"dataframe\">\n",
       "  <thead>\n",
       "    <tr style=\"text-align: right;\">\n",
       "      <th></th>\n",
       "      <th>focus_area</th>\n",
       "      <th>project</th>\n",
       "      <th>date</th>\n",
       "      <th>minutes</th>\n",
       "    </tr>\n",
       "  </thead>\n",
       "  <tbody>\n",
       "    <tr>\n",
       "      <th>0</th>\n",
       "      <td>personal_code</td>\n",
       "      <td>time_logger</td>\n",
       "      <td>2024-12-05</td>\n",
       "      <td>0 days 02:19:00</td>\n",
       "    </tr>\n",
       "    <tr>\n",
       "      <th>1</th>\n",
       "      <td>personal_code</td>\n",
       "      <td>slowcial</td>\n",
       "      <td>2024-12-18</td>\n",
       "      <td>0 days 01:47:00</td>\n",
       "    </tr>\n",
       "    <tr>\n",
       "      <th>2</th>\n",
       "      <td>admin</td>\n",
       "      <td>cee243</td>\n",
       "      <td>2024-12-14</td>\n",
       "      <td>0 days 03:17:00</td>\n",
       "    </tr>\n",
       "    <tr>\n",
       "      <th>3</th>\n",
       "      <td>phd</td>\n",
       "      <td>SERC</td>\n",
       "      <td>2024-12-13</td>\n",
       "      <td>0 days 00:32:00</td>\n",
       "    </tr>\n",
       "    <tr>\n",
       "      <th>4</th>\n",
       "      <td>career</td>\n",
       "      <td>building africa's cities summit</td>\n",
       "      <td>2024-12-06</td>\n",
       "      <td>0 days 01:32:00</td>\n",
       "    </tr>\n",
       "    <tr>\n",
       "      <th>5</th>\n",
       "      <td>personal_code</td>\n",
       "      <td>time_logger</td>\n",
       "      <td>2024-12-11</td>\n",
       "      <td>0 days 01:49:00</td>\n",
       "    </tr>\n",
       "    <tr>\n",
       "      <th>6</th>\n",
       "      <td>career</td>\n",
       "      <td>summer24 job application</td>\n",
       "      <td>2024-12-13</td>\n",
       "      <td>0 days 03:39:00</td>\n",
       "    </tr>\n",
       "    <tr>\n",
       "      <th>7</th>\n",
       "      <td>career</td>\n",
       "      <td>summer24 job application</td>\n",
       "      <td>2024-12-20</td>\n",
       "      <td>0 days 02:37:00</td>\n",
       "    </tr>\n",
       "    <tr>\n",
       "      <th>8</th>\n",
       "      <td>foundations</td>\n",
       "      <td>probabilistic graphical models</td>\n",
       "      <td>2024-12-18</td>\n",
       "      <td>0 days 01:30:00</td>\n",
       "    </tr>\n",
       "    <tr>\n",
       "      <th>9</th>\n",
       "      <td>personal_code</td>\n",
       "      <td>slowcial</td>\n",
       "      <td>2024-12-07</td>\n",
       "      <td>0 days 01:55:00</td>\n",
       "    </tr>\n",
       "  </tbody>\n",
       "</table>\n",
       "</div>"
      ],
      "text/plain": [
       "      focus_area                          project        date         minutes\n",
       "0  personal_code                      time_logger  2024-12-05 0 days 02:19:00\n",
       "1  personal_code                         slowcial  2024-12-18 0 days 01:47:00\n",
       "2          admin                           cee243  2024-12-14 0 days 03:17:00\n",
       "3            phd                             SERC  2024-12-13 0 days 00:32:00\n",
       "4         career  building africa's cities summit  2024-12-06 0 days 01:32:00\n",
       "5  personal_code                      time_logger  2024-12-11 0 days 01:49:00\n",
       "6         career         summer24 job application  2024-12-13 0 days 03:39:00\n",
       "7         career         summer24 job application  2024-12-20 0 days 02:37:00\n",
       "8    foundations   probabilistic graphical models  2024-12-18 0 days 01:30:00\n",
       "9  personal_code                         slowcial  2024-12-07 0 days 01:55:00"
      ]
     },
     "execution_count": 29,
     "metadata": {},
     "output_type": "execute_result"
    }
   ],
   "source": [
    "df_pandas = df_plt.to_pandas()\n",
    "df_pandas[\"minutes\"] = df_pandas[\"minutes\"].dt.to_pytimedelta()\n",
    "df_pandas"
   ]
  },
  {
   "cell_type": "code",
   "execution_count": 35,
   "metadata": {},
   "outputs": [
    {
     "data": {
      "image/png": "[encoded data removed]",
      "text/plain": [
       "<seaborn._core.plot.Plot at 0x11ad43bf0>"
      ]
     },
     "execution_count": 35,
     "metadata": {
      "image/png": {
       "height": 378.25,
       "width": 646.425
      }
     },
     "output_type": "execute_result"
    }
   ],
   "source": [
    "so.Plot(df_pandas, x=\"date\", y=\"minutes\", color=\"focus_area\").add(so.Bar(), so.Stack())"
   ]
  },
  {
   "cell_type": "code",
   "execution_count": 31,
   "metadata": {},
   "outputs": [
    {
     "data": {
      "application/vnd.plotly.v1+json": {
       "config": {
        "plotlyServerURL": "https://plotly.com"
       },
       "data": [
        {
         "alignmentgroup": "True",
         "hovertemplate": "focus_area=personal_code<br>date=%{x}<br>minutes=%{y}<extra></extra>",
         "legendgroup": "personal_code",
         "marker": {
          "color": "#636efa",
          "pattern": {
           "shape": ""
          }
         },
         "name": "personal_code",
         "offsetgroup": "personal_code",
         "orientation": "v",
         "showlegend": true,
         "textposition": "auto",
         "type": "bar",
         "x": [
          "2024-12-05",
          "2024-12-18",
          "2024-12-11",
          "2024-12-07"
         ],
         "xaxis": "x",
         "y": [
          8340000000000,
          6420000000000,
          6540000000000,
          6900000000000
         ],
         "yaxis": "y"
        },
        {
         "alignmentgroup": "True",
         "hovertemplate": "focus_area=admin<br>date=%{x}<br>minutes=%{y}<extra></extra>",
         "legendgroup": "admin",
         "marker": {
          "color": "#EF553B",
          "pattern": {
           "shape": ""
          }
         },
         "name": "admin",
         "offsetgroup": "admin",
         "orientation": "v",
         "showlegend": true,
         "textposition": "auto",
         "type": "bar",
         "x": [
          "2024-12-14"
         ],
         "xaxis": "x",
         "y": [
          11820000000000
         ],
         "yaxis": "y"
        },
        {
         "alignmentgroup": "True",
         "hovertemplate": "focus_area=phd<br>date=%{x}<br>minutes=%{y}<extra></extra>",
         "legendgroup": "phd",
         "marker": {
          "color": "#00cc96",
          "pattern": {
           "shape": ""
          }
         },
         "name": "phd",
         "offsetgroup": "phd",
         "orientation": "v",
         "showlegend": true,
         "textposition": "auto",
         "type": "bar",
         "x": [
          "2024-12-13"
         ],
         "xaxis": "x",
         "y": [
          1920000000000
         ],
         "yaxis": "y"
        },
        {
         "alignmentgroup": "True",
         "hovertemplate": "focus_area=career<br>date=%{x}<br>minutes=%{y}<extra></extra>",
         "legendgroup": "career",
         "marker": {
          "color": "#ab63fa",
          "pattern": {
           "shape": ""
          }
         },
         "name": "career",
         "offsetgroup": "career",
         "orientation": "v",
         "showlegend": true,
         "textposition": "auto",
         "type": "bar",
         "x": [
          "2024-12-06",
          "2024-12-13",
          "2024-12-20"
         ],
         "xaxis": "x",
         "y": [
          5520000000000,
          13140000000000,
          9420000000000
         ],
         "yaxis": "y"
        },
        {
         "alignmentgroup": "True",
         "hovertemplate": "focus_area=foundations<br>date=%{x}<br>minutes=%{y}<extra></extra>",
         "legendgroup": "foundations",
         "marker": {
          "color": "#FFA15A",
          "pattern": {
           "shape": ""
          }
         },
         "name": "foundations",
         "offsetgroup": "foundations",
         "orientation": "v",
         "showlegend": true,
         "textposition": "auto",
         "type": "bar",
         "x": [
          "2024-12-18"
         ],
         "xaxis": "x",
         "y": [
          5400000000000
         ],
         "yaxis": "y"
        }
       ],
       "layout": {
        "barmode": "relative",
        "legend": {
         "title": {
          "text": "focus_area"
         },
         "tracegroupgap": 0
        },
        "margin": {
         "t": 60
        },
        "template": {
         "data": {
          "bar": [
           {
            "error_x": {
             "color": "#2a3f5f"
            },
            "error_y": {
             "color": "#2a3f5f"
            },
            "marker": {
             "line": {
              "color": "#E5ECF6",
              "width": 0.5
             },
             "pattern": {
              "fillmode": "overlay",
              "size": 10,
              "solidity": 0.2
             }
            },
            "type": "bar"
           }
          ],
          "barpolar": [
           {
            "marker": {
             "line": {
              "color": "#E5ECF6",
              "width": 0.5
             },
             "pattern": {
              "fillmode": "overlay",
              "size": 10,
              "solidity": 0.2
             }
            },
            "type": "barpolar"
           }
          ],
          "carpet": [
           {
            "aaxis": {
             "endlinecolor": "#2a3f5f",
             "gridcolor": "white",
             "linecolor": "white",
             "minorgridcolor": "white",
             "startlinecolor": "#2a3f5f"
            },
            "baxis": {
             "endlinecolor": "#2a3f5f",
             "gridcolor": "white",
             "linecolor": "white",
             "minorgridcolor": "white",
             "startlinecolor": "#2a3f5f"
            },
            "type": "carpet"
           }
          ],
          "choropleth": [
           {
            "colorbar": {
             "outlinewidth": 0,
             "ticks": ""
            },
            "type": "choropleth"
           }
          ],
          "contour": [
           {
            "colorbar": {
             "outlinewidth": 0,
             "ticks": ""
            },
            "colorscale": [
             [
              0,
              "#0d0887"
             ],
             [
              0.1111111111111111,
              "#46039f"
             ],
             [
              0.2222222222222222,
              "#7201a8"
             ],
             [
              0.3333333333333333,
              "#9c179e"
             ],
             [
              0.4444444444444444,
              "#bd3786"
             ],
             [
              0.5555555555555556,
              "#d8576b"
             ],
             [
              0.6666666666666666,
              "#ed7953"
             ],
             [
              0.7777777777777778,
              "#fb9f3a"
             ],
             [
              0.8888888888888888,
              "#fdca26"
             ],
             [
              1,
              "#f0f921"
             ]
            ],
            "type": "contour"
           }
          ],
          "contourcarpet": [
           {
            "colorbar": {
             "outlinewidth": 0,
             "ticks": ""
            },
            "type": "contourcarpet"
           }
          ],
          "heatmap": [
           {
            "colorbar": {
             "outlinewidth": 0,
             "ticks": ""
            },
            "colorscale": [
             [
              0,
              "#0d0887"
             ],
             [
              0.1111111111111111,
              "#46039f"
             ],
             [
              0.2222222222222222,
              "#7201a8"
             ],
             [
              0.3333333333333333,
              "#9c179e"
             ],
             [
              0.4444444444444444,
              "#bd3786"
             ],
             [
              0.5555555555555556,
              "#d8576b"
             ],
             [
              0.6666666666666666,
              "#ed7953"
             ],
             [
              0.7777777777777778,
              "#fb9f3a"
             ],
             [
              0.8888888888888888,
              "#fdca26"
             ],
             [
              1,
              "#f0f921"
             ]
            ],
            "type": "heatmap"
           }
          ],
          "heatmapgl": [
           {
            "colorbar": {
             "outlinewidth": 0,
             "ticks": ""
            },
            "colorscale": [
             [
              0,
              "#0d0887"
             ],
             [
              0.1111111111111111,
              "#46039f"
             ],
             [
              0.2222222222222222,
              "#7201a8"
             ],
             [
              0.3333333333333333,
              "#9c179e"
             ],
             [
              0.4444444444444444,
              "#bd3786"
             ],
             [
              0.5555555555555556,
              "#d8576b"
             ],
             [
              0.6666666666666666,
              "#ed7953"
             ],
             [
              0.7777777777777778,
              "#fb9f3a"
             ],
             [
              0.8888888888888888,
              "#fdca26"
             ],
             [
              1,
              "#f0f921"
             ]
            ],
            "type": "heatmapgl"
           }
          ],
          "histogram": [
           {
            "marker": {
             "pattern": {
              "fillmode": "overlay",
              "size": 10,
              "solidity": 0.2
             }
            },
            "type": "histogram"
           }
          ],
          "histogram2d": [
           {
            "colorbar": {
             "outlinewidth": 0,
             "ticks": ""
            },
            "colorscale": [
             [
              0,
              "#0d0887"
             ],
             [
              0.1111111111111111,
              "#46039f"
             ],
             [
              0.2222222222222222,
              "#7201a8"
             ],
             [
              0.3333333333333333,
              "#9c179e"
             ],
             [
              0.4444444444444444,
              "#bd3786"
             ],
             [
              0.5555555555555556,
              "#d8576b"
             ],
             [
              0.6666666666666666,
              "#ed7953"
             ],
             [
              0.7777777777777778,
              "#fb9f3a"
             ],
             [
              0.8888888888888888,
              "#fdca26"
             ],
             [
              1,
              "#f0f921"
             ]
            ],
            "type": "histogram2d"
           }
          ],
          "histogram2dcontour": [
           {
            "colorbar": {
             "outlinewidth": 0,
             "ticks": ""
            },
            "colorscale": [
             [
              0,
              "#0d0887"
             ],
             [
              0.1111111111111111,
              "#46039f"
             ],
             [
              0.2222222222222222,
              "#7201a8"
             ],
             [
              0.3333333333333333,
              "#9c179e"
             ],
             [
              0.4444444444444444,
              "#bd3786"
             ],
             [
              0.5555555555555556,
              "#d8576b"
             ],
             [
              0.6666666666666666,
              "#ed7953"
             ],
             [
              0.7777777777777778,
              "#fb9f3a"
             ],
             [
              0.8888888888888888,
              "#fdca26"
             ],
             [
              1,
              "#f0f921"
             ]
            ],
            "type": "histogram2dcontour"
           }
          ],
          "mesh3d": [
           {
            "colorbar": {
             "outlinewidth": 0,
             "ticks": ""
            },
            "type": "mesh3d"
           }
          ],
          "parcoords": [
           {
            "line": {
             "colorbar": {
              "outlinewidth": 0,
              "ticks": ""
             }
            },
            "type": "parcoords"
           }
          ],
          "pie": [
           {
            "automargin": true,
            "type": "pie"
           }
          ],
          "scatter": [
           {
            "fillpattern": {
             "fillmode": "overlay",
             "size": 10,
             "solidity": 0.2
            },
            "type": "scatter"
           }
          ],
          "scatter3d": [
           {
            "line": {
             "colorbar": {
              "outlinewidth": 0,
              "ticks": ""
             }
            },
            "marker": {
             "colorbar": {
              "outlinewidth": 0,
              "ticks": ""
             }
            },
            "type": "scatter3d"
           }
          ],
          "scattercarpet": [
           {
            "marker": {
             "colorbar": {
              "outlinewidth": 0,
              "ticks": ""
             }
            },
            "type": "scattercarpet"
           }
          ],
          "scattergeo": [
           {
            "marker": {
             "colorbar": {
              "outlinewidth": 0,
              "ticks": ""
             }
            },
            "type": "scattergeo"
           }
          ],
          "scattergl": [
           {
            "marker": {
             "colorbar": {
              "outlinewidth": 0,
              "ticks": ""
             }
            },
            "type": "scattergl"
           }
          ],
          "scattermapbox": [
           {
            "marker": {
             "colorbar": {
              "outlinewidth": 0,
              "ticks": ""
             }
            },
            "type": "scattermapbox"
           }
          ],
          "scatterpolar": [
           {
            "marker": {
             "colorbar": {
              "outlinewidth": 0,
              "ticks": ""
             }
            },
            "type": "scatterpolar"
           }
          ],
          "scatterpolargl": [
           {
            "marker": {
             "colorbar": {
              "outlinewidth": 0,
              "ticks": ""
             }
            },
            "type": "scatterpolargl"
           }
          ],
          "scatterternary": [
           {
            "marker": {
             "colorbar": {
              "outlinewidth": 0,
              "ticks": ""
             }
            },
            "type": "scatterternary"
           }
          ],
          "surface": [
           {
            "colorbar": {
             "outlinewidth": 0,
             "ticks": ""
            },
            "colorscale": [
             [
              0,
              "#0d0887"
             ],
             [
              0.1111111111111111,
              "#46039f"
             ],
             [
              0.2222222222222222,
              "#7201a8"
             ],
             [
              0.3333333333333333,
              "#9c179e"
             ],
             [
              0.4444444444444444,
              "#bd3786"
             ],
             [
              0.5555555555555556,
              "#d8576b"
             ],
             [
              0.6666666666666666,
              "#ed7953"
             ],
             [
              0.7777777777777778,
              "#fb9f3a"
             ],
             [
              0.8888888888888888,
              "#fdca26"
             ],
             [
              1,
              "#f0f921"
             ]
            ],
            "type": "surface"
           }
          ],
          "table": [
           {
            "cells": {
             "fill": {
              "color": "#EBF0F8"
             },
             "line": {
              "color": "white"
             }
            },
            "header": {
             "fill": {
              "color": "#C8D4E3"
             },
             "line": {
              "color": "white"
             }
            },
            "type": "table"
           }
          ]
         },
         "layout": {
          "annotationdefaults": {
           "arrowcolor": "#2a3f5f",
           "arrowhead": 0,
           "arrowwidth": 1
          },
          "autotypenumbers": "strict",
          "coloraxis": {
           "colorbar": {
            "outlinewidth": 0,
            "ticks": ""
           }
          },
          "colorscale": {
           "diverging": [
            [
             0,
             "#8e0152"
            ],
            [
             0.1,
             "#c51b7d"
            ],
            [
             0.2,
             "#de77ae"
            ],
            [
             0.3,
             "#f1b6da"
            ],
            [
             0.4,
             "#fde0ef"
            ],
            [
             0.5,
             "#f7f7f7"
            ],
            [
             0.6,
             "#e6f5d0"
            ],
            [
             0.7,
             "#b8e186"
            ],
            [
             0.8,
             "#7fbc41"
            ],
            [
             0.9,
             "#4d9221"
            ],
            [
             1,
             "#276419"
            ]
           ],
           "sequential": [
            [
             0,
             "#0d0887"
            ],
            [
             0.1111111111111111,
             "#46039f"
            ],
            [
             0.2222222222222222,
             "#7201a8"
            ],
            [
             0.3333333333333333,
             "#9c179e"
            ],
            [
             0.4444444444444444,
             "#bd3786"
            ],
            [
             0.5555555555555556,
             "#d8576b"
            ],
            [
             0.6666666666666666,
             "#ed7953"
            ],
            [
             0.7777777777777778,
             "#fb9f3a"
            ],
            [
             0.8888888888888888,
             "#fdca26"
            ],
            [
             1,
             "#f0f921"
            ]
           ],
           "sequentialminus": [
            [
             0,
             "#0d0887"
            ],
            [
             0.1111111111111111,
             "#46039f"
            ],
            [
             0.2222222222222222,
             "#7201a8"
            ],
            [
             0.3333333333333333,
             "#9c179e"
            ],
            [
             0.4444444444444444,
             "#bd3786"
            ],
            [
             0.5555555555555556,
             "#d8576b"
            ],
            [
             0.6666666666666666,
             "#ed7953"
            ],
            [
             0.7777777777777778,
             "#fb9f3a"
            ],
            [
             0.8888888888888888,
             "#fdca26"
            ],
            [
             1,
             "#f0f921"
            ]
           ]
          },
          "colorway": [
           "#636efa",
           "#EF553B",
           "#00cc96",
           "#ab63fa",
           "#FFA15A",
           "#19d3f3",
           "#FF6692",
           "#B6E880",
           "#FF97FF",
           "#FECB52"
          ],
          "font": {
           "color": "#2a3f5f"
          },
          "geo": {
           "bgcolor": "white",
           "lakecolor": "white",
           "landcolor": "#E5ECF6",
           "showlakes": true,
           "showland": true,
           "subunitcolor": "white"
          },
          "hoverlabel": {
           "align": "left"
          },
          "hovermode": "closest",
          "mapbox": {
           "style": "light"
          },
          "paper_bgcolor": "white",
          "plot_bgcolor": "#E5ECF6",
          "polar": {
           "angularaxis": {
            "gridcolor": "white",
            "linecolor": "white",
            "ticks": ""
           },
           "bgcolor": "#E5ECF6",
           "radialaxis": {
            "gridcolor": "white",
            "linecolor": "white",
            "ticks": ""
           }
          },
          "scene": {
           "xaxis": {
            "backgroundcolor": "#E5ECF6",
            "gridcolor": "white",
            "gridwidth": 2,
            "linecolor": "white",
            "showbackground": true,
            "ticks": "",
            "zerolinecolor": "white"
           },
           "yaxis": {
            "backgroundcolor": "#E5ECF6",
            "gridcolor": "white",
            "gridwidth": 2,
            "linecolor": "white",
            "showbackground": true,
            "ticks": "",
            "zerolinecolor": "white"
           },
           "zaxis": {
            "backgroundcolor": "#E5ECF6",
            "gridcolor": "white",
            "gridwidth": 2,
            "linecolor": "white",
            "showbackground": true,
            "ticks": "",
            "zerolinecolor": "white"
           }
          },
          "shapedefaults": {
           "line": {
            "color": "#2a3f5f"
           }
          },
          "ternary": {
           "aaxis": {
            "gridcolor": "white",
            "linecolor": "white",
            "ticks": ""
           },
           "baxis": {
            "gridcolor": "white",
            "linecolor": "white",
            "ticks": ""
           },
           "bgcolor": "#E5ECF6",
           "caxis": {
            "gridcolor": "white",
            "linecolor": "white",
            "ticks": ""
           }
          },
          "title": {
           "x": 0.05
          },
          "xaxis": {
           "automargin": true,
           "gridcolor": "white",
           "linecolor": "white",
           "ticks": "",
           "title": {
            "standoff": 15
           },
           "zerolinecolor": "white",
           "zerolinewidth": 2
          },
          "yaxis": {
           "automargin": true,
           "gridcolor": "white",
           "linecolor": "white",
           "ticks": "",
           "title": {
            "standoff": 15
           },
           "zerolinecolor": "white",
           "zerolinewidth": 2
          }
         }
        },
        "xaxis": {
         "anchor": "y",
         "domain": [
          0,
          1
         ],
         "title": {
          "text": "date"
         }
        },
        "yaxis": {
         "anchor": "x",
         "domain": [
          0,
          1
         ],
         "tickformat": "%H:%M",
         "title": {
          "text": "minutes"
         }
        }
       }
      }
     },
     "metadata": {},
     "output_type": "display_data"
    }
   ],
   "source": [
    "fig = px.bar(df_pandas, x='date', y='minutes', color=\"focus_area\")\n",
    "fig.update_layout(yaxis_tickformat=\"%H:%M\")\n",
    "fig.show()"
   ]
  },
  {
   "cell_type": "code",
   "execution_count": 31,
   "metadata": {},
   "outputs": [
    {
     "name": "stdout",
     "output_type": "stream",
     "text": [
      "('personal_code', [datetime.timedelta(seconds=6420), None, None, None, None, datetime.timedelta(seconds=8340), datetime.timedelta(seconds=6900), datetime.timedelta(seconds=6540), None, None])\n",
      "('career', [None, datetime.timedelta(seconds=13140), None, None, None, None, None, None, datetime.timedelta(seconds=9420), datetime.timedelta(seconds=5520)])\n",
      "('admin', [None, None, datetime.timedelta(seconds=11820), None, None, None, None, None, None, None])\n",
      "('phd', [None, None, None, datetime.timedelta(seconds=1920), None, None, None, None, None, None])\n",
      "('foundations', [None, None, None, None, datetime.timedelta(seconds=5400), None, None, None, None, None])\n"
     ]
    }
   ],
   "source": [
    "for col in durations.iter_columns():\n",
    "    print((col.name, col.to_list()))\n"
   ]
  },
  {
   "cell_type": "code",
   "execution_count": null,
   "metadata": {},
   "outputs": [],
   "source": []
  }
 ],
 "metadata": {
  "kernelspec": {
   "display_name": ".venv",
   "language": "python",
   "name": "python3"
  },
  "language_info": {
   "codemirror_mode": {
    "name": "ipython",
    "version": 3
   },
   "file_extension": ".py",
   "mimetype": "text/x-python",
   "name": "python",
   "nbconvert_exporter": "python",
   "pygments_lexer": "ipython3",
   "version": "3.13.0"
  }
 },
 "nbformat": 4,
 "nbformat_minor": 2
}
